{
 "cells": [
  {
   "cell_type": "code",
   "execution_count": 1,
   "metadata": {
    "execution": {
     "iopub.execute_input": "2021-02-09T10:24:19.741825Z",
     "iopub.status.busy": "2021-02-09T10:24:19.741039Z",
     "iopub.status.idle": "2021-02-09T10:25:16.367768Z",
     "shell.execute_reply": "2021-02-09T10:25:16.367241Z"
    },
    "papermill": {
     "duration": 56.642379,
     "end_time": "2021-02-09T10:25:16.367892",
     "exception": false,
     "start_time": "2021-02-09T10:24:19.725513",
     "status": "completed"
    },
    "tags": []
   },
   "outputs": [],
   "source": [
    "!pip install --quiet /kaggle/input/kerasapplications\n",
    "!pip install --quiet /kaggle/input/efficientnet-keras-source-code"
   ]
  },
  {
   "cell_type": "code",
   "execution_count": 2,
   "metadata": {
    "_cell_guid": "79c7e3d0-c299-4dcb-8224-4455121ee9b0",
    "_uuid": "d629ff2d2480ee46fbb7e2d37f6b5fab8052498a",
    "execution": {
     "iopub.execute_input": "2021-02-09T10:25:16.387710Z",
     "iopub.status.busy": "2021-02-09T10:25:16.386912Z",
     "iopub.status.idle": "2021-02-09T10:25:21.851995Z",
     "shell.execute_reply": "2021-02-09T10:25:21.851380Z"
    },
    "papermill": {
     "duration": 5.476853,
     "end_time": "2021-02-09T10:25:21.852125",
     "exception": false,
     "start_time": "2021-02-09T10:25:16.375272",
     "status": "completed"
    },
    "tags": []
   },
   "outputs": [],
   "source": [
    "import math, os, random, re\n",
    "import tensorflow as tf\n",
    "import numpy as np\n",
    "import pandas as pd\n",
    "from kaggle_datasets import KaggleDatasets\n",
    "from tensorflow import keras\n",
    "import efficientnet.tfkeras as efn\n",
    "from functools import partial"
   ]
  },
  {
   "cell_type": "code",
   "execution_count": 3,
   "metadata": {
    "execution": {
     "iopub.execute_input": "2021-02-09T10:25:21.870763Z",
     "iopub.status.busy": "2021-02-09T10:25:21.870249Z",
     "iopub.status.idle": "2021-02-09T10:25:21.873896Z",
     "shell.execute_reply": "2021-02-09T10:25:21.873385Z"
    },
    "papermill": {
     "duration": 0.014728,
     "end_time": "2021-02-09T10:25:21.874017",
     "exception": false,
     "start_time": "2021-02-09T10:25:21.859289",
     "status": "completed"
    },
    "tags": []
   },
   "outputs": [],
   "source": [
    "AUTOTUNE = tf.data.experimental.AUTOTUNE\n",
    "BATCH_SIZE = 20\n",
    "IMAGE_SIZE = [512, 512]\n",
    "CLASSES = ['0', '1', '2', '3', '4']\n",
    "SEED = 42"
   ]
  },
  {
   "cell_type": "code",
   "execution_count": 4,
   "metadata": {
    "execution": {
     "iopub.execute_input": "2021-02-09T10:25:21.892782Z",
     "iopub.status.busy": "2021-02-09T10:25:21.892291Z",
     "iopub.status.idle": "2021-02-09T10:25:21.905451Z",
     "shell.execute_reply": "2021-02-09T10:25:21.905817Z"
    },
    "papermill": {
     "duration": 0.024757,
     "end_time": "2021-02-09T10:25:21.905917",
     "exception": false,
     "start_time": "2021-02-09T10:25:21.881160",
     "status": "completed"
    },
    "tags": []
   },
   "outputs": [],
   "source": [
    "def count_data_items(filenames):\n",
    "    n = [int(re.compile(r\"-([0-9]*)\\.\").search(filename).group(1)) for filename in filenames]\n",
    "    return np.sum(n)\n",
    "\n",
    "TEST_FILENAMES = tf.io.gfile.glob('../input/cassava-leaf-disease-classification/test_tfrecords/ld_test*.tfrec')\n",
    "NUM_TEST_IMAGES = count_data_items(TEST_FILENAMES)"
   ]
  },
  {
   "cell_type": "code",
   "execution_count": 5,
   "metadata": {
    "execution": {
     "iopub.execute_input": "2021-02-09T10:25:21.936117Z",
     "iopub.status.busy": "2021-02-09T10:25:21.934855Z",
     "iopub.status.idle": "2021-02-09T10:25:21.937444Z",
     "shell.execute_reply": "2021-02-09T10:25:21.937891Z"
    },
    "papermill": {
     "duration": 0.024371,
     "end_time": "2021-02-09T10:25:21.938030",
     "exception": false,
     "start_time": "2021-02-09T10:25:21.913659",
     "status": "completed"
    },
    "tags": []
   },
   "outputs": [],
   "source": [
    "def decode_image(image):\n",
    "    image = tf.image.decode_jpeg(image, channels=3)\n",
    "    image = tf.image.resize(image, IMAGE_SIZE)\n",
    "    image = tf.cast(image, tf.float32) / 255.0     ###\n",
    "    image = tf.reshape(image, [*IMAGE_SIZE, 3])\n",
    "    return image\n",
    "\n",
    "def read_tfrecord(example, labeled):\n",
    "    tfrecord_format = {\n",
    "        \"image\": tf.io.FixedLenFeature([], tf.string),\n",
    "        \"target\": tf.io.FixedLenFeature([], tf.int64)\n",
    "    } if labeled else {\n",
    "        \"image\": tf.io.FixedLenFeature([], tf.string),\n",
    "        \"image_name\": tf.io.FixedLenFeature([], tf.string)\n",
    "    }\n",
    "    example = tf.io.parse_single_example(example, tfrecord_format)\n",
    "    image = decode_image(example['image'])\n",
    "    if labeled:\n",
    "        label = tf.cast(example['target'], tf.int32)\n",
    "        return image, label\n",
    "    idnum = example['image_name']\n",
    "    return image, idnum\n",
    "\n",
    "def load_dataset(filenames, labeled=True, ordered=False):\n",
    "    ignore_order = tf.data.Options()\n",
    "    if not ordered:\n",
    "        ignore_order.experimental_deterministic = False # disable order, increase speed\n",
    "    dataset = tf.data.TFRecordDataset(filenames, num_parallel_reads=AUTOTUNE) # automatically interleaves reads from multiple files\n",
    "    dataset = dataset.with_options(ignore_order) # uses data as soon as it streams in, rather than in its original order\n",
    "    dataset = dataset.map(partial(read_tfrecord, labeled=labeled), num_parallel_calls=AUTOTUNE)\n",
    "    return dataset\n",
    "\n",
    "def get_test_dataset(ordered=True):\n",
    "    dataset = load_dataset(TEST_FILENAMES, labeled=False, ordered=ordered)\n",
    "    dataset = dataset.batch(BATCH_SIZE)\n",
    "    dataset = dataset.prefetch(AUTOTUNE)\n",
    "    return dataset"
   ]
  },
  {
   "cell_type": "code",
   "execution_count": 6,
   "metadata": {
    "execution": {
     "iopub.execute_input": "2021-02-09T10:25:21.956275Z",
     "iopub.status.busy": "2021-02-09T10:25:21.955710Z",
     "iopub.status.idle": "2021-02-09T10:25:36.297137Z",
     "shell.execute_reply": "2021-02-09T10:25:36.296600Z"
    },
    "papermill": {
     "duration": 14.351869,
     "end_time": "2021-02-09T10:25:36.297244",
     "exception": false,
     "start_time": "2021-02-09T10:25:21.945375",
     "status": "completed"
    },
    "tags": []
   },
   "outputs": [],
   "source": [
    "model = tf.keras.models.load_model('../input/cassava-fcomp/fcomp_model.h5')"
   ]
  },
  {
   "cell_type": "code",
   "execution_count": 7,
   "metadata": {
    "execution": {
     "iopub.execute_input": "2021-02-09T10:25:36.319307Z",
     "iopub.status.busy": "2021-02-09T10:25:36.318616Z",
     "iopub.status.idle": "2021-02-09T10:25:41.585852Z",
     "shell.execute_reply": "2021-02-09T10:25:41.586856Z"
    },
    "papermill": {
     "duration": 5.282192,
     "end_time": "2021-02-09T10:25:41.587071",
     "exception": false,
     "start_time": "2021-02-09T10:25:36.304879",
     "status": "completed"
    },
    "tags": []
   },
   "outputs": [],
   "source": [
    "test_ds = get_test_dataset()\n",
    "test_img_ds = test_ds.map(lambda image, idnum: image)\n",
    "predictions = np.argmax(model.predict(test_img_ds), axis=-1)"
   ]
  },
  {
   "cell_type": "code",
   "execution_count": 8,
   "metadata": {
    "execution": {
     "iopub.execute_input": "2021-02-09T10:25:41.622591Z",
     "iopub.status.busy": "2021-02-09T10:25:41.621805Z",
     "iopub.status.idle": "2021-02-09T10:25:41.629926Z",
     "shell.execute_reply": "2021-02-09T10:25:41.630552Z"
    },
    "papermill": {
     "duration": 0.030028,
     "end_time": "2021-02-09T10:25:41.630707",
     "exception": false,
     "start_time": "2021-02-09T10:25:41.600679",
     "status": "completed"
    },
    "tags": []
   },
   "outputs": [
    {
     "data": {
      "text/plain": [
       "{2: 1}"
      ]
     },
     "execution_count": 8,
     "metadata": {},
     "output_type": "execute_result"
    }
   ],
   "source": [
    "u,c = np.unique(predictions, return_counts = True)\n",
    "dict(zip(u,c))"
   ]
  },
  {
   "cell_type": "code",
   "execution_count": 9,
   "metadata": {
    "execution": {
     "iopub.execute_input": "2021-02-09T10:25:41.666529Z",
     "iopub.status.busy": "2021-02-09T10:25:41.665740Z",
     "iopub.status.idle": "2021-02-09T10:25:41.743313Z",
     "shell.execute_reply": "2021-02-09T10:25:41.742819Z"
    },
    "papermill": {
     "duration": 0.10036,
     "end_time": "2021-02-09T10:25:41.743417",
     "exception": false,
     "start_time": "2021-02-09T10:25:41.643057",
     "status": "completed"
    },
    "tags": []
   },
   "outputs": [],
   "source": [
    "test_ids_ds = test_ds.map(lambda image, idnum: idnum).unbatch()\n",
    "test_ids = next(iter(test_ids_ds.batch(NUM_TEST_IMAGES))).numpy().astype('U') # all in one batch\n",
    "np.savetxt('submission.csv', np.rec.fromarrays([test_ids, predictions]), fmt=['%s', '%d'], delimiter=',', header='image_id,label', comments='')"
   ]
  },
  {
   "cell_type": "code",
   "execution_count": 10,
   "metadata": {
    "execution": {
     "iopub.execute_input": "2021-02-09T10:25:41.796400Z",
     "iopub.status.busy": "2021-02-09T10:25:41.795667Z",
     "iopub.status.idle": "2021-02-09T10:25:42.628511Z",
     "shell.execute_reply": "2021-02-09T10:25:42.627161Z"
    },
    "papermill": {
     "duration": 0.874689,
     "end_time": "2021-02-09T10:25:42.628662",
     "exception": false,
     "start_time": "2021-02-09T10:25:41.753973",
     "status": "completed"
    },
    "tags": []
   },
   "outputs": [
    {
     "name": "stdout",
     "output_type": "stream",
     "text": [
      "image_id,label\r\n",
      "2216849948.jpg,2\r\n"
     ]
    }
   ],
   "source": [
    "!head submission.csv"
   ]
  },
  {
   "cell_type": "code",
   "execution_count": null,
   "metadata": {
    "papermill": {
     "duration": 0.01634,
     "end_time": "2021-02-09T10:25:42.662171",
     "exception": false,
     "start_time": "2021-02-09T10:25:42.645831",
     "status": "completed"
    },
    "tags": []
   },
   "outputs": [],
   "source": []
  }
 ],
 "metadata": {
  "kernelspec": {
   "display_name": "Python 3",
   "language": "python",
   "name": "python3"
  },
  "language_info": {
   "codemirror_mode": {
    "name": "ipython",
    "version": 3
   },
   "file_extension": ".py",
   "mimetype": "text/x-python",
   "name": "python",
   "nbconvert_exporter": "python",
   "pygments_lexer": "ipython3",
   "version": "3.7.6"
  },
  "papermill": {
   "duration": 88.70826,
   "end_time": "2021-02-09T10:25:44.601532",
   "environment_variables": {},
   "exception": null,
   "input_path": "__notebook__.ipynb",
   "output_path": "__notebook__.ipynb",
   "parameters": {},
   "start_time": "2021-02-09T10:24:15.893272",
   "version": "2.1.0"
  }
 },
 "nbformat": 4,
 "nbformat_minor": 4
}
