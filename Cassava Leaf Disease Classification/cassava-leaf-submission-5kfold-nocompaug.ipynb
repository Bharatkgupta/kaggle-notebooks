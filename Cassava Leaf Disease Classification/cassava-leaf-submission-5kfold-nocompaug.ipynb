{
 "cells": [
  {
   "cell_type": "code",
   "execution_count": 1,
   "metadata": {
    "execution": {
     "iopub.execute_input": "2021-02-10T12:02:00.766375Z",
     "iopub.status.busy": "2021-02-10T12:02:00.765484Z",
     "iopub.status.idle": "2021-02-10T12:03:02.455838Z",
     "shell.execute_reply": "2021-02-10T12:03:02.453942Z"
    },
    "papermill": {
     "duration": 61.706879,
     "end_time": "2021-02-10T12:03:02.456165",
     "exception": false,
     "start_time": "2021-02-10T12:02:00.749286",
     "status": "completed"
    },
    "tags": []
   },
   "outputs": [],
   "source": [
    "!pip install --quiet /kaggle/input/kerasapplications\n",
    "!pip install --quiet /kaggle/input/efficientnet-keras-source-code"
   ]
  },
  {
   "cell_type": "code",
   "execution_count": 2,
   "metadata": {
    "_cell_guid": "79c7e3d0-c299-4dcb-8224-4455121ee9b0",
    "_uuid": "d629ff2d2480ee46fbb7e2d37f6b5fab8052498a",
    "execution": {
     "iopub.execute_input": "2021-02-10T12:03:02.497820Z",
     "iopub.status.busy": "2021-02-10T12:03:02.496971Z",
     "iopub.status.idle": "2021-02-10T12:03:08.291692Z",
     "shell.execute_reply": "2021-02-10T12:03:08.290542Z"
    },
    "papermill": {
     "duration": 5.823493,
     "end_time": "2021-02-10T12:03:08.291814",
     "exception": false,
     "start_time": "2021-02-10T12:03:02.468321",
     "status": "completed"
    },
    "tags": []
   },
   "outputs": [],
   "source": [
    "import math, os, random, re\n",
    "import tensorflow as tf\n",
    "import numpy as np\n",
    "import pandas as pd\n",
    "from kaggle_datasets import KaggleDatasets\n",
    "from tensorflow import keras\n",
    "import efficientnet.tfkeras as efn\n",
    "from functools import partial"
   ]
  },
  {
   "cell_type": "code",
   "execution_count": 3,
   "metadata": {
    "execution": {
     "iopub.execute_input": "2021-02-10T12:03:08.316099Z",
     "iopub.status.busy": "2021-02-10T12:03:08.314108Z",
     "iopub.status.idle": "2021-02-10T12:03:08.316855Z",
     "shell.execute_reply": "2021-02-10T12:03:08.317406Z"
    },
    "papermill": {
     "duration": 0.01769,
     "end_time": "2021-02-10T12:03:08.317529",
     "exception": false,
     "start_time": "2021-02-10T12:03:08.299839",
     "status": "completed"
    },
    "tags": []
   },
   "outputs": [],
   "source": [
    "AUTOTUNE = tf.data.experimental.AUTOTUNE\n",
    "BATCH_SIZE = 20\n",
    "IMAGE_SIZE = [512, 512]\n",
    "CLASSES = ['0', '1', '2', '3', '4']\n",
    "SEED = 42"
   ]
  },
  {
   "cell_type": "code",
   "execution_count": 4,
   "metadata": {
    "execution": {
     "iopub.execute_input": "2021-02-10T12:03:08.339668Z",
     "iopub.status.busy": "2021-02-10T12:03:08.339040Z",
     "iopub.status.idle": "2021-02-10T12:03:08.350821Z",
     "shell.execute_reply": "2021-02-10T12:03:08.350325Z"
    },
    "papermill": {
     "duration": 0.025735,
     "end_time": "2021-02-10T12:03:08.350978",
     "exception": false,
     "start_time": "2021-02-10T12:03:08.325243",
     "status": "completed"
    },
    "tags": []
   },
   "outputs": [],
   "source": [
    "def count_data_items(filenames):\n",
    "    n = [int(re.compile(r\"-([0-9]*)\\.\").search(filename).group(1)) for filename in filenames]\n",
    "    return np.sum(n)\n",
    "\n",
    "TEST_FILENAMES = tf.io.gfile.glob('../input/cassava-leaf-disease-classification/test_tfrecords/ld_test*.tfrec')\n",
    "NUM_TEST_IMAGES = count_data_items(TEST_FILENAMES)"
   ]
  },
  {
   "cell_type": "code",
   "execution_count": 5,
   "metadata": {
    "execution": {
     "iopub.execute_input": "2021-02-10T12:03:08.384083Z",
     "iopub.status.busy": "2021-02-10T12:03:08.383323Z",
     "iopub.status.idle": "2021-02-10T12:03:08.387125Z",
     "shell.execute_reply": "2021-02-10T12:03:08.386561Z"
    },
    "papermill": {
     "duration": 0.028221,
     "end_time": "2021-02-10T12:03:08.387268",
     "exception": false,
     "start_time": "2021-02-10T12:03:08.359047",
     "status": "completed"
    },
    "tags": []
   },
   "outputs": [],
   "source": [
    "def decode_image(image):\n",
    "    image = tf.image.decode_jpeg(image, channels=3)\n",
    "    image = tf.image.resize(image, IMAGE_SIZE)\n",
    "    image = tf.cast(image, tf.float32) / 255.0     ###\n",
    "    image = tf.reshape(image, [*IMAGE_SIZE, 3])\n",
    "    return image\n",
    "\n",
    "def read_tfrecord(example, labeled):\n",
    "    tfrecord_format = {\n",
    "        \"image\": tf.io.FixedLenFeature([], tf.string),\n",
    "        \"target\": tf.io.FixedLenFeature([], tf.int64)\n",
    "    } if labeled else {\n",
    "        \"image\": tf.io.FixedLenFeature([], tf.string),\n",
    "        \"image_name\": tf.io.FixedLenFeature([], tf.string)\n",
    "    }\n",
    "    example = tf.io.parse_single_example(example, tfrecord_format)\n",
    "    image = decode_image(example['image'])\n",
    "    if labeled:\n",
    "        label = tf.cast(example['target'], tf.int32)\n",
    "        return image, label\n",
    "    idnum = example['image_name']\n",
    "    return image, idnum\n",
    "\n",
    "def load_dataset(filenames, labeled=True, ordered=False):\n",
    "    ignore_order = tf.data.Options()\n",
    "    if not ordered:\n",
    "        ignore_order.experimental_deterministic = False # disable order, increase speed\n",
    "    dataset = tf.data.TFRecordDataset(filenames, num_parallel_reads=AUTOTUNE) # automatically interleaves reads from multiple files\n",
    "    dataset = dataset.with_options(ignore_order) # uses data as soon as it streams in, rather than in its original order\n",
    "    dataset = dataset.map(partial(read_tfrecord, labeled=labeled), num_parallel_calls=AUTOTUNE)\n",
    "    return dataset\n",
    "\n",
    "def get_test_dataset(ordered=True):\n",
    "    dataset = load_dataset(TEST_FILENAMES, labeled=False, ordered=ordered)\n",
    "    dataset = dataset.batch(BATCH_SIZE)\n",
    "    dataset = dataset.prefetch(AUTOTUNE)\n",
    "    return dataset"
   ]
  },
  {
   "cell_type": "code",
   "execution_count": 6,
   "metadata": {
    "execution": {
     "iopub.execute_input": "2021-02-10T12:03:10.754814Z",
     "iopub.status.busy": "2021-02-10T12:03:10.753847Z",
     "iopub.status.idle": "2021-02-10T12:03:11.184011Z",
     "shell.execute_reply": "2021-02-10T12:03:11.182991Z"
    },
    "papermill": {
     "duration": 2.788698,
     "end_time": "2021-02-10T12:03:11.184133",
     "exception": false,
     "start_time": "2021-02-10T12:03:08.395435",
     "status": "completed"
    },
    "tags": []
   },
   "outputs": [],
   "source": [
    "test_ds = get_test_dataset()\n",
    "test_img_ds = test_ds.map(lambda image, idnum: image)"
   ]
  },
  {
   "cell_type": "code",
   "execution_count": 7,
   "metadata": {
    "execution": {
     "iopub.execute_input": "2021-02-10T12:03:11.208402Z",
     "iopub.status.busy": "2021-02-10T12:03:11.207546Z",
     "iopub.status.idle": "2021-02-10T12:04:29.141572Z",
     "shell.execute_reply": "2021-02-10T12:04:29.140339Z"
    },
    "papermill": {
     "duration": 77.949078,
     "end_time": "2021-02-10T12:04:29.141725",
     "exception": false,
     "start_time": "2021-02-10T12:03:11.192647",
     "status": "completed"
    },
    "tags": []
   },
   "outputs": [],
   "source": [
    "probabilities = []\n",
    "\n",
    "for i in range(1,6):\n",
    "    model = tf.keras.models.load_model('../input/cassava-5fold-nocompaug/fkfold_model-{}.h5'.format(i))\n",
    "    preds = model.predict(test_img_ds, verbose=0)\n",
    "    probabilities.append(preds)\n",
    "    del model\n",
    "    \n",
    "predictions = np.array(probabilities).mean(0).argmax(-1)"
   ]
  },
  {
   "cell_type": "code",
   "execution_count": 8,
   "metadata": {
    "execution": {
     "iopub.execute_input": "2021-02-10T12:04:29.176576Z",
     "iopub.status.busy": "2021-02-10T12:04:29.167573Z",
     "iopub.status.idle": "2021-02-10T12:04:29.229314Z",
     "shell.execute_reply": "2021-02-10T12:04:29.228346Z"
    },
    "papermill": {
     "duration": 0.078748,
     "end_time": "2021-02-10T12:04:29.229439",
     "exception": false,
     "start_time": "2021-02-10T12:04:29.150691",
     "status": "completed"
    },
    "tags": []
   },
   "outputs": [],
   "source": [
    "test_ids_ds = test_ds.map(lambda image, idnum: idnum).unbatch()\n",
    "test_ids = next(iter(test_ids_ds.batch(NUM_TEST_IMAGES))).numpy().astype('U') # all in one batch\n",
    "np.savetxt('submission.csv', np.rec.fromarrays([test_ids, predictions]), fmt=['%s', '%d'], delimiter=',', header='image_id,label', comments='')"
   ]
  },
  {
   "cell_type": "code",
   "execution_count": null,
   "metadata": {
    "papermill": {
     "duration": 0.008883,
     "end_time": "2021-02-10T12:04:29.247112",
     "exception": false,
     "start_time": "2021-02-10T12:04:29.238229",
     "status": "completed"
    },
    "tags": []
   },
   "outputs": [],
   "source": []
  }
 ],
 "metadata": {
  "kernelspec": {
   "display_name": "Python 3",
   "language": "python",
   "name": "python3"
  },
  "language_info": {
   "codemirror_mode": {
    "name": "ipython",
    "version": 3
   },
   "file_extension": ".py",
   "mimetype": "text/x-python",
   "name": "python",
   "nbconvert_exporter": "python",
   "pygments_lexer": "ipython3",
   "version": "3.7.6"
  },
  "papermill": {
   "duration": 154.780337,
   "end_time": "2021-02-10T12:04:30.885273",
   "environment_variables": {},
   "exception": null,
   "input_path": "__notebook__.ipynb",
   "output_path": "__notebook__.ipynb",
   "parameters": {},
   "start_time": "2021-02-10T12:01:56.104936",
   "version": "2.1.0"
  }
 },
 "nbformat": 4,
 "nbformat_minor": 4
}
