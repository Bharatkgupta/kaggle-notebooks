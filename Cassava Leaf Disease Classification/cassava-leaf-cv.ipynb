{
 "cells": [
  {
   "cell_type": "code",
   "execution_count": 1,
   "metadata": {
    "execution": {
     "iopub.execute_input": "2021-02-16T17:16:12.203478Z",
     "iopub.status.busy": "2021-02-16T17:16:12.202556Z",
     "iopub.status.idle": "2021-02-16T17:17:15.394935Z",
     "shell.execute_reply": "2021-02-16T17:17:15.393859Z"
    },
    "papermill": {
     "duration": 63.212318,
     "end_time": "2021-02-16T17:17:15.395126",
     "exception": false,
     "start_time": "2021-02-16T17:16:12.182808",
     "status": "completed"
    },
    "tags": []
   },
   "outputs": [],
   "source": [
    "!pip install --quiet /kaggle/input/kerasapplications\n",
    "!pip install --quiet /kaggle/input/efficientnet-keras-source-code"
   ]
  },
  {
   "cell_type": "code",
   "execution_count": 2,
   "metadata": {
    "_cell_guid": "79c7e3d0-c299-4dcb-8224-4455121ee9b0",
    "_uuid": "d629ff2d2480ee46fbb7e2d37f6b5fab8052498a",
    "execution": {
     "iopub.execute_input": "2021-02-16T17:17:15.423634Z",
     "iopub.status.busy": "2021-02-16T17:17:15.422639Z",
     "iopub.status.idle": "2021-02-16T17:17:22.616718Z",
     "shell.execute_reply": "2021-02-16T17:17:22.615421Z"
    },
    "papermill": {
     "duration": 7.210555,
     "end_time": "2021-02-16T17:17:22.616849",
     "exception": false,
     "start_time": "2021-02-16T17:17:15.406294",
     "status": "completed"
    },
    "tags": []
   },
   "outputs": [],
   "source": [
    "import math, os, random, re\n",
    "import tensorflow as tf\n",
    "import numpy as np\n",
    "import pandas as pd\n",
    "from kaggle_datasets import KaggleDatasets\n",
    "from tensorflow import keras\n",
    "import efficientnet.tfkeras as efn\n",
    "from functools import partial"
   ]
  },
  {
   "cell_type": "code",
   "execution_count": 3,
   "metadata": {
    "execution": {
     "iopub.execute_input": "2021-02-16T17:17:22.644693Z",
     "iopub.status.busy": "2021-02-16T17:17:22.642847Z",
     "iopub.status.idle": "2021-02-16T17:17:22.645740Z",
     "shell.execute_reply": "2021-02-16T17:17:22.646320Z"
    },
    "papermill": {
     "duration": 0.019402,
     "end_time": "2021-02-16T17:17:22.646446",
     "exception": false,
     "start_time": "2021-02-16T17:17:22.627044",
     "status": "completed"
    },
    "tags": []
   },
   "outputs": [],
   "source": [
    "AUTOTUNE = tf.data.experimental.AUTOTUNE\n",
    "BATCH_SIZE = 16\n",
    "IMAGE_SIZE = [512, 512]\n",
    "CLASSES = ['0', '1', '2', '3', '4']\n",
    "SEED = 42"
   ]
  },
  {
   "cell_type": "code",
   "execution_count": 4,
   "metadata": {
    "execution": {
     "iopub.execute_input": "2021-02-16T17:17:22.673064Z",
     "iopub.status.busy": "2021-02-16T17:17:22.672418Z",
     "iopub.status.idle": "2021-02-16T17:17:22.688536Z",
     "shell.execute_reply": "2021-02-16T17:17:22.687946Z"
    },
    "papermill": {
     "duration": 0.031923,
     "end_time": "2021-02-16T17:17:22.688645",
     "exception": false,
     "start_time": "2021-02-16T17:17:22.656722",
     "status": "completed"
    },
    "tags": []
   },
   "outputs": [],
   "source": [
    "def count_data_items(filenames):\n",
    "    n = [int(re.compile(r\"-([0-9]*)\\.\").search(filename).group(1)) for filename in filenames]\n",
    "    return np.sum(n)\n",
    "\n",
    "TEST_FILENAMES = tf.io.gfile.glob('../input/cassava-leaf-disease-classification/train_tfrecords/ld_train*.tfrec')\n",
    "NUM_TEST_IMAGES = count_data_items(TEST_FILENAMES)"
   ]
  },
  {
   "cell_type": "code",
   "execution_count": 5,
   "metadata": {
    "execution": {
     "iopub.execute_input": "2021-02-16T17:17:22.728383Z",
     "iopub.status.busy": "2021-02-16T17:17:22.718210Z",
     "iopub.status.idle": "2021-02-16T17:17:22.731179Z",
     "shell.execute_reply": "2021-02-16T17:17:22.730621Z"
    },
    "papermill": {
     "duration": 0.031939,
     "end_time": "2021-02-16T17:17:22.731287",
     "exception": false,
     "start_time": "2021-02-16T17:17:22.699348",
     "status": "completed"
    },
    "tags": []
   },
   "outputs": [],
   "source": [
    "def decode_image(image):\n",
    "    image = tf.image.decode_jpeg(image, channels=3)\n",
    "    image = tf.image.resize(image, IMAGE_SIZE)\n",
    "    image = tf.cast(image, tf.float32) / 255.0     ###\n",
    "    image = tf.reshape(image, [*IMAGE_SIZE, 3])\n",
    "    return image\n",
    "\n",
    "def read_tfrecord(example, labeled):\n",
    "    tfrecord_format = {\n",
    "        \"image\": tf.io.FixedLenFeature([], tf.string),\n",
    "        \"target\": tf.io.FixedLenFeature([], tf.int64)\n",
    "    } if labeled else {\n",
    "        \"image\": tf.io.FixedLenFeature([], tf.string),\n",
    "        \"image_name\": tf.io.FixedLenFeature([], tf.string)\n",
    "    }\n",
    "    example = tf.io.parse_single_example(example, tfrecord_format)\n",
    "    image = decode_image(example['image'])\n",
    "    if labeled:\n",
    "        label = tf.cast(example['target'], tf.int32)\n",
    "        return image, label\n",
    "    idnum = example['image_name']\n",
    "    return image, idnum\n",
    "\n",
    "def load_dataset(filenames, labeled=True, ordered=False):\n",
    "    ignore_order = tf.data.Options()\n",
    "    if not ordered:\n",
    "        ignore_order.experimental_deterministic = False # disable order, increase speed\n",
    "    dataset = tf.data.TFRecordDataset(filenames, num_parallel_reads=AUTOTUNE) # automatically interleaves reads from multiple files\n",
    "    dataset = dataset.with_options(ignore_order) # uses data as soon as it streams in, rather than in its original order\n",
    "    dataset = dataset.map(partial(read_tfrecord, labeled=labeled), num_parallel_calls=AUTOTUNE)\n",
    "    return dataset\n",
    "\n",
    "def get_test_dataset(ordered=True):\n",
    "    dataset = load_dataset(TEST_FILENAMES, ordered=ordered)\n",
    "    dataset = dataset.batch(BATCH_SIZE)\n",
    "    dataset = dataset.prefetch(AUTOTUNE)\n",
    "    return dataset"
   ]
  },
  {
   "cell_type": "code",
   "execution_count": 6,
   "metadata": {
    "execution": {
     "iopub.execute_input": "2021-02-16T17:17:25.706205Z",
     "iopub.status.busy": "2021-02-16T17:17:23.793155Z",
     "iopub.status.idle": "2021-02-16T17:18:48.344406Z",
     "shell.execute_reply": "2021-02-16T17:18:48.343141Z"
    },
    "papermill": {
     "duration": 85.602358,
     "end_time": "2021-02-16T17:18:48.344545",
     "exception": false,
     "start_time": "2021-02-16T17:17:22.742187",
     "status": "completed"
    },
    "tags": []
   },
   "outputs": [],
   "source": [
    "test_ds = get_test_dataset()\n",
    "test_img_ds = test_ds.map(lambda image, label: image)\n",
    "test_lab_ds = test_ds.map(lambda image, label: label).unbatch()\n",
    "test_lab = next(iter(test_lab_ds.batch(NUM_TEST_IMAGES))).numpy()"
   ]
  },
  {
   "cell_type": "code",
   "execution_count": 7,
   "metadata": {
    "execution": {
     "iopub.execute_input": "2021-02-16T17:18:48.371621Z",
     "iopub.status.busy": "2021-02-16T17:18:48.370882Z",
     "iopub.status.idle": "2021-02-16T17:44:42.870469Z",
     "shell.execute_reply": "2021-02-16T17:44:42.869848Z"
    },
    "papermill": {
     "duration": 1554.515593,
     "end_time": "2021-02-16T17:44:42.870600",
     "exception": false,
     "start_time": "2021-02-16T17:18:48.355007",
     "status": "completed"
    },
    "tags": []
   },
   "outputs": [],
   "source": [
    "probabilities = []\n",
    "\n",
    "for i in range(1,6):\n",
    "    model = tf.keras.models.load_model('../input/cassava-diff/f5fold_model-{}.h5'.format(i))\n",
    "    preds = model.predict(test_img_ds, verbose=0)\n",
    "    probabilities.append(preds)\n",
    "    del model\n",
    "    \n",
    "predictions = np.array(probabilities).mean(0)"
   ]
  },
  {
   "cell_type": "code",
   "execution_count": 8,
   "metadata": {
    "execution": {
     "iopub.execute_input": "2021-02-16T17:44:42.895173Z",
     "iopub.status.busy": "2021-02-16T17:44:42.894518Z",
     "iopub.status.idle": "2021-02-16T17:44:42.918294Z",
     "shell.execute_reply": "2021-02-16T17:44:42.917786Z"
    },
    "papermill": {
     "duration": 0.037684,
     "end_time": "2021-02-16T17:44:42.918404",
     "exception": false,
     "start_time": "2021-02-16T17:44:42.880720",
     "status": "completed"
    },
    "tags": []
   },
   "outputs": [
    {
     "name": "stdout",
     "output_type": "stream",
     "text": [
      "5fold_diff: 0.9228864\n"
     ]
    }
   ],
   "source": [
    "accuracy = tf.keras.metrics.sparse_categorical_accuracy(test_lab, predictions).numpy().mean()\n",
    "print(\"5fold_diff:\",accuracy)"
   ]
  },
  {
   "cell_type": "code",
   "execution_count": 9,
   "metadata": {
    "execution": {
     "iopub.execute_input": "2021-02-16T17:44:42.944677Z",
     "iopub.status.busy": "2021-02-16T17:44:42.944117Z",
     "iopub.status.idle": "2021-02-16T18:07:57.957278Z",
     "shell.execute_reply": "2021-02-16T18:07:57.956620Z"
    },
    "papermill": {
     "duration": 1395.029049,
     "end_time": "2021-02-16T18:07:57.957433",
     "exception": false,
     "start_time": "2021-02-16T17:44:42.928384",
     "status": "completed"
    },
    "tags": []
   },
   "outputs": [],
   "source": [
    "probabilities = []\n",
    "\n",
    "for i in range(1,6):\n",
    "    model = tf.keras.models.load_model('../input/cassava-5fold-new/f5fold_model-{}.h5'.format(i))\n",
    "    preds = model.predict(test_img_ds, verbose=0)\n",
    "    probabilities.append(preds)\n",
    "    del model\n",
    "    \n",
    "predictions = np.array(probabilities).mean(0)"
   ]
  },
  {
   "cell_type": "code",
   "execution_count": 10,
   "metadata": {
    "execution": {
     "iopub.execute_input": "2021-02-16T18:07:57.984950Z",
     "iopub.status.busy": "2021-02-16T18:07:57.984367Z",
     "iopub.status.idle": "2021-02-16T18:07:57.992177Z",
     "shell.execute_reply": "2021-02-16T18:07:57.991689Z"
    },
    "papermill": {
     "duration": 0.023003,
     "end_time": "2021-02-16T18:07:57.992277",
     "exception": false,
     "start_time": "2021-02-16T18:07:57.969274",
     "status": "completed"
    },
    "tags": []
   },
   "outputs": [
    {
     "name": "stdout",
     "output_type": "stream",
     "text": [
      "5fold: 0.919241\n"
     ]
    }
   ],
   "source": [
    "accuracy = tf.keras.metrics.sparse_categorical_accuracy(test_lab, predictions).numpy().mean()\n",
    "print(\"5fold:\",accuracy)"
   ]
  },
  {
   "cell_type": "code",
   "execution_count": 11,
   "metadata": {
    "execution": {
     "iopub.execute_input": "2021-02-16T18:07:58.018113Z",
     "iopub.status.busy": "2021-02-16T18:07:58.017514Z",
     "iopub.status.idle": "2021-02-16T18:12:40.472215Z",
     "shell.execute_reply": "2021-02-16T18:12:40.471061Z"
    },
    "papermill": {
     "duration": 282.469159,
     "end_time": "2021-02-16T18:12:40.472357",
     "exception": false,
     "start_time": "2021-02-16T18:07:58.003198",
     "status": "completed"
    },
    "tags": []
   },
   "outputs": [],
   "source": [
    "model = tf.keras.models.load_model('../input/cassava-fcomp-new/fcomp_model_new.h5')\n",
    "predictions = np.array(model.predict(test_img_ds, verbose=0))\n",
    "del model"
   ]
  },
  {
   "cell_type": "code",
   "execution_count": 12,
   "metadata": {
    "execution": {
     "iopub.execute_input": "2021-02-16T18:12:40.500697Z",
     "iopub.status.busy": "2021-02-16T18:12:40.498860Z",
     "iopub.status.idle": "2021-02-16T18:12:40.504636Z",
     "shell.execute_reply": "2021-02-16T18:12:40.504150Z"
    },
    "papermill": {
     "duration": 0.02114,
     "end_time": "2021-02-16T18:12:40.504726",
     "exception": false,
     "start_time": "2021-02-16T18:12:40.483586",
     "status": "completed"
    },
    "tags": []
   },
   "outputs": [
    {
     "name": "stdout",
     "output_type": "stream",
     "text": [
      "simp_eff: 0.9306445\n"
     ]
    }
   ],
   "source": [
    "accuracy = tf.keras.metrics.sparse_categorical_accuracy(test_lab, predictions).numpy().mean()\n",
    "print(\"simp_eff:\",accuracy)"
   ]
  }
 ],
 "metadata": {
  "kernelspec": {
   "display_name": "Python 3",
   "language": "python",
   "name": "python3"
  },
  "language_info": {
   "codemirror_mode": {
    "name": "ipython",
    "version": 3
   },
   "file_extension": ".py",
   "mimetype": "text/x-python",
   "name": "python",
   "nbconvert_exporter": "python",
   "pygments_lexer": "ipython3",
   "version": "3.7.6"
  },
  "papermill": {
   "duration": 3394.780133,
   "end_time": "2021-02-16T18:12:42.041534",
   "environment_variables": {},
   "exception": null,
   "input_path": "__notebook__.ipynb",
   "output_path": "__notebook__.ipynb",
   "parameters": {},
   "start_time": "2021-02-16T17:16:07.261401",
   "version": "2.1.0"
  }
 },
 "nbformat": 4,
 "nbformat_minor": 4
}
