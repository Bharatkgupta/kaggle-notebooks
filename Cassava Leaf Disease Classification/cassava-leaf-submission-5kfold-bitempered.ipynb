{
 "cells": [
  {
   "cell_type": "code",
   "execution_count": 1,
   "metadata": {
    "execution": {
     "iopub.execute_input": "2021-02-11T17:37:11.197992Z",
     "iopub.status.busy": "2021-02-11T17:37:11.197115Z",
     "iopub.status.idle": "2021-02-11T17:38:11.915650Z",
     "shell.execute_reply": "2021-02-11T17:38:11.915036Z"
    },
    "papermill": {
     "duration": 60.735057,
     "end_time": "2021-02-11T17:38:11.915806",
     "exception": false,
     "start_time": "2021-02-11T17:37:11.180749",
     "status": "completed"
    },
    "tags": []
   },
   "outputs": [],
   "source": [
    "!pip install --quiet /kaggle/input/kerasapplications\n",
    "!pip install --quiet /kaggle/input/efficientnet-keras-source-code"
   ]
  },
  {
   "cell_type": "code",
   "execution_count": 2,
   "metadata": {
    "_cell_guid": "79c7e3d0-c299-4dcb-8224-4455121ee9b0",
    "_uuid": "d629ff2d2480ee46fbb7e2d37f6b5fab8052498a",
    "execution": {
     "iopub.execute_input": "2021-02-11T17:38:11.941383Z",
     "iopub.status.busy": "2021-02-11T17:38:11.938434Z",
     "iopub.status.idle": "2021-02-11T17:38:17.574263Z",
     "shell.execute_reply": "2021-02-11T17:38:17.573062Z"
    },
    "papermill": {
     "duration": 5.650025,
     "end_time": "2021-02-11T17:38:17.574397",
     "exception": false,
     "start_time": "2021-02-11T17:38:11.924372",
     "status": "completed"
    },
    "tags": []
   },
   "outputs": [],
   "source": [
    "import math, os, random, re\n",
    "import tensorflow as tf\n",
    "import numpy as np\n",
    "import pandas as pd\n",
    "from kaggle_datasets import KaggleDatasets\n",
    "from tensorflow import keras\n",
    "import efficientnet.tfkeras as efn\n",
    "from functools import partial"
   ]
  },
  {
   "cell_type": "code",
   "execution_count": 3,
   "metadata": {
    "execution": {
     "iopub.execute_input": "2021-02-11T17:38:17.595514Z",
     "iopub.status.busy": "2021-02-11T17:38:17.594914Z",
     "iopub.status.idle": "2021-02-11T17:38:17.599269Z",
     "shell.execute_reply": "2021-02-11T17:38:17.598678Z"
    },
    "papermill": {
     "duration": 0.01754,
     "end_time": "2021-02-11T17:38:17.599377",
     "exception": false,
     "start_time": "2021-02-11T17:38:17.581837",
     "status": "completed"
    },
    "tags": []
   },
   "outputs": [],
   "source": [
    "AUTOTUNE = tf.data.experimental.AUTOTUNE\n",
    "BATCH_SIZE = 20\n",
    "IMAGE_SIZE = [512, 512]\n",
    "CLASSES = ['0', '1', '2', '3', '4']\n",
    "SEED = 42"
   ]
  },
  {
   "cell_type": "code",
   "execution_count": 4,
   "metadata": {
    "execution": {
     "iopub.execute_input": "2021-02-11T17:38:17.621081Z",
     "iopub.status.busy": "2021-02-11T17:38:17.620448Z",
     "iopub.status.idle": "2021-02-11T17:38:17.630913Z",
     "shell.execute_reply": "2021-02-11T17:38:17.629864Z"
    },
    "papermill": {
     "duration": 0.023573,
     "end_time": "2021-02-11T17:38:17.631029",
     "exception": false,
     "start_time": "2021-02-11T17:38:17.607456",
     "status": "completed"
    },
    "tags": []
   },
   "outputs": [],
   "source": [
    "def count_data_items(filenames):\n",
    "    n = [int(re.compile(r\"-([0-9]*)\\.\").search(filename).group(1)) for filename in filenames]\n",
    "    return np.sum(n)\n",
    "\n",
    "TEST_FILENAMES = tf.io.gfile.glob('../input/cassava-leaf-disease-classification/test_tfrecords/ld_test*.tfrec')\n",
    "NUM_TEST_IMAGES = count_data_items(TEST_FILENAMES)"
   ]
  },
  {
   "cell_type": "code",
   "execution_count": 5,
   "metadata": {
    "execution": {
     "iopub.execute_input": "2021-02-11T17:38:17.664389Z",
     "iopub.status.busy": "2021-02-11T17:38:17.660656Z",
     "iopub.status.idle": "2021-02-11T17:38:17.667062Z",
     "shell.execute_reply": "2021-02-11T17:38:17.666567Z"
    },
    "papermill": {
     "duration": 0.027639,
     "end_time": "2021-02-11T17:38:17.667159",
     "exception": false,
     "start_time": "2021-02-11T17:38:17.639520",
     "status": "completed"
    },
    "tags": []
   },
   "outputs": [],
   "source": [
    "def decode_image(image):\n",
    "    image = tf.image.decode_jpeg(image, channels=3)\n",
    "    image = tf.image.resize(image, IMAGE_SIZE)\n",
    "    image = tf.cast(image, tf.float32) / 255.0     ###\n",
    "    image = tf.reshape(image, [*IMAGE_SIZE, 3])\n",
    "    return image\n",
    "\n",
    "def read_tfrecord(example, labeled):\n",
    "    tfrecord_format = {\n",
    "        \"image\": tf.io.FixedLenFeature([], tf.string),\n",
    "        \"target\": tf.io.FixedLenFeature([], tf.int64)\n",
    "    } if labeled else {\n",
    "        \"image\": tf.io.FixedLenFeature([], tf.string),\n",
    "        \"image_name\": tf.io.FixedLenFeature([], tf.string)\n",
    "    }\n",
    "    example = tf.io.parse_single_example(example, tfrecord_format)\n",
    "    image = decode_image(example['image'])\n",
    "    if labeled:\n",
    "        label = tf.cast(example['target'], tf.int32)\n",
    "        return image, label\n",
    "    idnum = example['image_name']\n",
    "    return image, idnum\n",
    "\n",
    "def load_dataset(filenames, labeled=True, ordered=False):\n",
    "    ignore_order = tf.data.Options()\n",
    "    if not ordered:\n",
    "        ignore_order.experimental_deterministic = False # disable order, increase speed\n",
    "    dataset = tf.data.TFRecordDataset(filenames, num_parallel_reads=AUTOTUNE) # automatically interleaves reads from multiple files\n",
    "    dataset = dataset.with_options(ignore_order) # uses data as soon as it streams in, rather than in its original order\n",
    "    dataset = dataset.map(partial(read_tfrecord, labeled=labeled), num_parallel_calls=AUTOTUNE)\n",
    "    return dataset\n",
    "\n",
    "def get_test_dataset(ordered=True):\n",
    "    dataset = load_dataset(TEST_FILENAMES, labeled=False, ordered=ordered)\n",
    "    dataset = dataset.batch(BATCH_SIZE)\n",
    "    dataset = dataset.prefetch(AUTOTUNE)\n",
    "    return dataset"
   ]
  },
  {
   "cell_type": "code",
   "execution_count": 6,
   "metadata": {
    "execution": {
     "iopub.execute_input": "2021-02-11T17:38:20.061656Z",
     "iopub.status.busy": "2021-02-11T17:38:20.060893Z",
     "iopub.status.idle": "2021-02-11T17:38:20.490096Z",
     "shell.execute_reply": "2021-02-11T17:38:20.489483Z"
    },
    "papermill": {
     "duration": 2.815152,
     "end_time": "2021-02-11T17:38:20.490213",
     "exception": false,
     "start_time": "2021-02-11T17:38:17.675061",
     "status": "completed"
    },
    "tags": []
   },
   "outputs": [],
   "source": [
    "test_ds = get_test_dataset()\n",
    "test_img_ds = test_ds.map(lambda image, idnum: image)"
   ]
  },
  {
   "cell_type": "code",
   "execution_count": 7,
   "metadata": {
    "execution": {
     "iopub.execute_input": "2021-02-11T17:38:20.513973Z",
     "iopub.status.busy": "2021-02-11T17:38:20.513286Z",
     "iopub.status.idle": "2021-02-11T17:39:11.837532Z",
     "shell.execute_reply": "2021-02-11T17:39:11.838181Z"
    },
    "papermill": {
     "duration": 51.339398,
     "end_time": "2021-02-11T17:39:11.838349",
     "exception": false,
     "start_time": "2021-02-11T17:38:20.498951",
     "status": "completed"
    },
    "tags": []
   },
   "outputs": [],
   "source": [
    "probabilities = []\n",
    "\n",
    "for i in range(1,6):\n",
    "    model = tf.keras.models.load_model('../input/cassava-5fold-bitemp/5fold_model-{}.h5'.format(i), compile=False)\n",
    "    preds = model.predict(test_img_ds, verbose=0)\n",
    "    probabilities.append(preds)\n",
    "    del model\n",
    "    \n",
    "predictions = np.array(probabilities).mean(0).argmax(-1)"
   ]
  },
  {
   "cell_type": "code",
   "execution_count": 8,
   "metadata": {
    "execution": {
     "iopub.execute_input": "2021-02-11T17:39:11.876900Z",
     "iopub.status.busy": "2021-02-11T17:39:11.863497Z",
     "iopub.status.idle": "2021-02-11T17:39:11.928031Z",
     "shell.execute_reply": "2021-02-11T17:39:11.926901Z"
    },
    "papermill": {
     "duration": 0.081133,
     "end_time": "2021-02-11T17:39:11.928163",
     "exception": false,
     "start_time": "2021-02-11T17:39:11.847030",
     "status": "completed"
    },
    "tags": []
   },
   "outputs": [],
   "source": [
    "test_ids_ds = test_ds.map(lambda image, idnum: idnum).unbatch()\n",
    "test_ids = next(iter(test_ids_ds.batch(NUM_TEST_IMAGES))).numpy().astype('U') # all in one batch\n",
    "np.savetxt('submission.csv', np.rec.fromarrays([test_ids, predictions]), fmt=['%s', '%d'], delimiter=',', header='image_id,label', comments='')"
   ]
  },
  {
   "cell_type": "code",
   "execution_count": null,
   "metadata": {
    "papermill": {
     "duration": 0.008626,
     "end_time": "2021-02-11T17:39:11.945724",
     "exception": false,
     "start_time": "2021-02-11T17:39:11.937098",
     "status": "completed"
    },
    "tags": []
   },
   "outputs": [],
   "source": []
  }
 ],
 "metadata": {
  "kernelspec": {
   "display_name": "Python 3",
   "language": "python",
   "name": "python3"
  },
  "language_info": {
   "codemirror_mode": {
    "name": "ipython",
    "version": 3
   },
   "file_extension": ".py",
   "mimetype": "text/x-python",
   "name": "python",
   "nbconvert_exporter": "python",
   "pygments_lexer": "ipython3",
   "version": "3.7.6"
  },
  "papermill": {
   "duration": 126.822799,
   "end_time": "2021-02-11T17:39:13.576838",
   "environment_variables": {},
   "exception": null,
   "input_path": "__notebook__.ipynb",
   "output_path": "__notebook__.ipynb",
   "parameters": {},
   "start_time": "2021-02-11T17:37:06.754039",
   "version": "2.1.0"
  }
 },
 "nbformat": 4,
 "nbformat_minor": 4
}
