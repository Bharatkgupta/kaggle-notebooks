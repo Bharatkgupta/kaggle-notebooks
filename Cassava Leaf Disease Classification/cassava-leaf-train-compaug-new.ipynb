{
 "cells": [
  {
   "cell_type": "code",
   "execution_count": 1,
   "metadata": {
    "execution": {
     "iopub.execute_input": "2021-02-10T04:52:55.349986Z",
     "iopub.status.busy": "2021-02-10T04:52:55.349178Z",
     "iopub.status.idle": "2021-02-10T04:53:14.315835Z",
     "shell.execute_reply": "2021-02-10T04:53:14.314569Z"
    },
    "papermill": {
     "duration": 18.981737,
     "end_time": "2021-02-10T04:53:14.316105",
     "exception": false,
     "start_time": "2021-02-10T04:52:55.334368",
     "status": "completed"
    },
    "tags": []
   },
   "outputs": [
    {
     "name": "stdout",
     "output_type": "stream",
     "text": [
      "\u001b[33mWARNING: You are using pip version 21.0; however, version 21.0.1 is available.\r\n",
      "You should consider upgrading via the '/opt/conda/bin/python3.7 -m pip install --upgrade pip' command.\u001b[0m\r\n",
      "\u001b[33mWARNING: You are using pip version 21.0; however, version 21.0.1 is available.\r\n",
      "You should consider upgrading via the '/opt/conda/bin/python3.7 -m pip install --upgrade pip' command.\u001b[0m\r\n"
     ]
    }
   ],
   "source": [
    "!pip install --quiet /kaggle/input/kerasapplications\n",
    "!pip install --quiet /kaggle/input/efficientnet-keras-source-code"
   ]
  },
  {
   "cell_type": "code",
   "execution_count": 2,
   "metadata": {
    "_cell_guid": "79c7e3d0-c299-4dcb-8224-4455121ee9b0",
    "_uuid": "d629ff2d2480ee46fbb7e2d37f6b5fab8052498a",
    "execution": {
     "iopub.execute_input": "2021-02-10T04:53:14.347746Z",
     "iopub.status.busy": "2021-02-10T04:53:14.347055Z",
     "iopub.status.idle": "2021-02-10T04:53:22.300185Z",
     "shell.execute_reply": "2021-02-10T04:53:22.299569Z"
    },
    "papermill": {
     "duration": 7.971394,
     "end_time": "2021-02-10T04:53:22.300342",
     "exception": false,
     "start_time": "2021-02-10T04:53:14.328948",
     "status": "completed"
    },
    "tags": []
   },
   "outputs": [],
   "source": [
    "import math, os, random, re\n",
    "import tensorflow as tf\n",
    "import tensorflow.keras.backend as K\n",
    "import numpy as np\n",
    "import pandas as pd\n",
    "import matplotlib.pyplot as plt\n",
    "from kaggle_datasets import KaggleDatasets\n",
    "from tensorflow import keras\n",
    "import efficientnet.tfkeras as efn\n",
    "from functools import partial"
   ]
  },
  {
   "cell_type": "code",
   "execution_count": 3,
   "metadata": {
    "execution": {
     "iopub.execute_input": "2021-02-10T04:53:22.398726Z",
     "iopub.status.busy": "2021-02-10T04:53:22.397656Z",
     "iopub.status.idle": "2021-02-10T04:53:28.121505Z",
     "shell.execute_reply": "2021-02-10T04:53:28.122034Z"
    },
    "papermill": {
     "duration": 5.810046,
     "end_time": "2021-02-10T04:53:28.122240",
     "exception": false,
     "start_time": "2021-02-10T04:53:22.312194",
     "status": "completed"
    },
    "tags": []
   },
   "outputs": [
    {
     "name": "stdout",
     "output_type": "stream",
     "text": [
      "Device: grpc://10.0.0.2:8470\n",
      "Number of replicas: 8\n"
     ]
    }
   ],
   "source": [
    "try:\n",
    "    tpu = tf.distribute.cluster_resolver.TPUClusterResolver()\n",
    "    print('Device:', tpu.master())\n",
    "    tf.config.experimental_connect_to_cluster(tpu)\n",
    "    tf.tpu.experimental.initialize_tpu_system(tpu)\n",
    "    strategy = tf.distribute.experimental.TPUStrategy(tpu)\n",
    "except:\n",
    "    strategy = tf.distribute.get_strategy()\n",
    "print('Number of replicas:', strategy.num_replicas_in_sync)"
   ]
  },
  {
   "cell_type": "code",
   "execution_count": 4,
   "metadata": {
    "execution": {
     "iopub.execute_input": "2021-02-10T04:53:28.155749Z",
     "iopub.status.busy": "2021-02-10T04:53:28.155037Z",
     "iopub.status.idle": "2021-02-10T04:53:28.658380Z",
     "shell.execute_reply": "2021-02-10T04:53:28.657679Z"
    },
    "papermill": {
     "duration": 0.523455,
     "end_time": "2021-02-10T04:53:28.658531",
     "exception": false,
     "start_time": "2021-02-10T04:53:28.135076",
     "status": "completed"
    },
    "tags": []
   },
   "outputs": [],
   "source": [
    "AUTOTUNE = tf.data.experimental.AUTOTUNE\n",
    "GCS_PATH = KaggleDatasets().get_gcs_path('cassava-leaf-disease-tfrecords-512x512')\n",
    "BATCH_SIZE = 8 * strategy.num_replicas_in_sync\n",
    "AUG_BATCH = BATCH_SIZE\n",
    "IMAGE_SIZE = [512, 512]\n",
    "CLASSES = ['0', '1', '2', '3', '4']\n",
    "EPOCHS = 30\n",
    "SEED = 42"
   ]
  },
  {
   "cell_type": "code",
   "execution_count": 5,
   "metadata": {
    "execution": {
     "iopub.execute_input": "2021-02-10T04:53:28.714365Z",
     "iopub.status.busy": "2021-02-10T04:53:28.713376Z",
     "iopub.status.idle": "2021-02-10T04:53:28.716185Z",
     "shell.execute_reply": "2021-02-10T04:53:28.716670Z"
    },
    "papermill": {
     "duration": 0.045102,
     "end_time": "2021-02-10T04:53:28.716852",
     "exception": false,
     "start_time": "2021-02-10T04:53:28.671750",
     "status": "completed"
    },
    "tags": []
   },
   "outputs": [],
   "source": [
    "ROT_ = 180.0\n",
    "SHR_ = 2.0\n",
    "HZOOM_ = 8.0\n",
    "WZOOM_ = 8.0\n",
    "HSHIFT_ = 8.0\n",
    "WSHIFT_ = 8.0\n",
    "\n",
    "def get_mat(rotation, shear, height_zoom, width_zoom, height_shift, width_shift):\n",
    "    # returns 3x3 transformmatrix which transforms indicies\n",
    "        \n",
    "    # CONVERT DEGREES TO RADIANS\n",
    "    rotation = math.pi * rotation / 180.\n",
    "    shear    = math.pi * shear    / 180.\n",
    "\n",
    "    def get_3x3_mat(lst):\n",
    "        return tf.reshape(tf.concat([lst],axis=0), [3,3])\n",
    "    \n",
    "    # ROTATION MATRIX\n",
    "    c1   = tf.math.cos(rotation)\n",
    "    s1   = tf.math.sin(rotation)\n",
    "    one  = tf.constant([1],dtype='float32')\n",
    "    zero = tf.constant([0],dtype='float32')\n",
    "    \n",
    "    rotation_matrix = get_3x3_mat([c1,   s1,   zero, \n",
    "                                   -s1,  c1,   zero, \n",
    "                                   zero, zero, one])    \n",
    "    # SHEAR MATRIX\n",
    "    c2 = tf.math.cos(shear)\n",
    "    s2 = tf.math.sin(shear)\n",
    "    \n",
    "    shear_matrix = get_3x3_mat([one,  s2,   zero, \n",
    "                                zero, c2,   zero, \n",
    "                                zero, zero, one])        \n",
    "    # ZOOM MATRIX\n",
    "    zoom_matrix = get_3x3_mat([one/height_zoom, zero,           zero, \n",
    "                               zero,            one/width_zoom, zero, \n",
    "                               zero,            zero,           one])    \n",
    "    # SHIFT MATRIX\n",
    "    shift_matrix = get_3x3_mat([one,  zero, height_shift, \n",
    "                                zero, one,  width_shift, \n",
    "                                zero, zero, one])\n",
    "    \n",
    "    return K.dot(K.dot(rotation_matrix, shear_matrix), \n",
    "                 K.dot(zoom_matrix,     shift_matrix))\n",
    "\n",
    "\n",
    "def transform_mat(image, DIM=IMAGE_SIZE[0]):    \n",
    "    # input image - is one image of size [dim,dim,3] not a batch of [b,dim,dim,3]\n",
    "    # output - image randomly rotated, sheared, zoomed, and shifted\n",
    "    XDIM = DIM%2 \n",
    "    \n",
    "    rot = ROT_ * tf.random.normal([1], dtype='float32')\n",
    "    shr = SHR_ * tf.random.normal([1], dtype='float32') \n",
    "    h_zoom = 1.0 + tf.random.normal([1], dtype='float32') / HZOOM_\n",
    "    w_zoom = 1.0 + tf.random.normal([1], dtype='float32') / WZOOM_\n",
    "    h_shift = HSHIFT_ * tf.random.normal([1], dtype='float32') \n",
    "    w_shift = WSHIFT_ * tf.random.normal([1], dtype='float32')\n",
    "    \n",
    "    # GET TRANSFORMATION MATRIX\n",
    "    m = get_mat(rot,shr,h_zoom,w_zoom,h_shift,w_shift) \n",
    "\n",
    "    # LIST DESTINATION PIXEL INDICES\n",
    "    x   = tf.repeat(tf.range(DIM//2, -DIM//2,-1), DIM)\n",
    "    y   = tf.tile(tf.range(-DIM//2, DIM//2), [DIM])\n",
    "    z   = tf.ones([DIM*DIM], dtype='int32')\n",
    "    idx = tf.stack( [x,y,z] )\n",
    "    \n",
    "    # ROTATE DESTINATION PIXELS ONTO ORIGIN PIXELS\n",
    "    idx2 = K.dot(m, tf.cast(idx, dtype='float32'))\n",
    "    idx2 = K.cast(idx2, dtype='int32')\n",
    "    idx2 = K.clip(idx2, -DIM//2+XDIM+1, DIM//2)\n",
    "    \n",
    "    # FIND ORIGIN PIXEL VALUES           \n",
    "    idx3 = tf.stack([DIM//2-idx2[0,], DIM//2-1+idx2[1,]])\n",
    "    d    = tf.gather_nd(image, tf.transpose(idx3))\n",
    "        \n",
    "    return tf.reshape(d, [DIM, DIM,3])\n",
    "\n",
    "def dropout(image, DIM=IMAGE_SIZE[0], PROBABILITY = 0.5, CT = 4, SZ = 0.1):\n",
    "    # input image - is one image of size [dim,dim,3] not a batch of [b,dim,dim,3]\n",
    "    # output - image with CT squares of side size SZ*DIM removed\n",
    "    \n",
    "    # DO DROPOUT WITH PROBABILITY DEFINED ABOVE\n",
    "    P = tf.cast( tf.random.uniform([],0,1)<PROBABILITY, tf.int32)\n",
    "    if (P==0)|(CT==0)|(SZ==0): return image\n",
    "    \n",
    "    for k in range(CT):\n",
    "        # CHOOSE RANDOM LOCATION\n",
    "        x = tf.cast( tf.random.uniform([],0,DIM),tf.int32)\n",
    "        y = tf.cast( tf.random.uniform([],0,DIM),tf.int32)\n",
    "        # COMPUTE SQUARE \n",
    "        WIDTH = tf.cast( SZ*DIM,tf.int32) * P\n",
    "        ya = tf.math.maximum(0,y-WIDTH//2)\n",
    "        yb = tf.math.minimum(DIM,y+WIDTH//2)\n",
    "        xa = tf.math.maximum(0,x-WIDTH//2)\n",
    "        xb = tf.math.minimum(DIM,x+WIDTH//2)\n",
    "        # DROPOUT IMAGE\n",
    "        one = image[ya:yb,0:xa,:]\n",
    "        two = tf.zeros([yb-ya,xb-xa,3]) \n",
    "        three = image[ya:yb,xb:DIM,:]\n",
    "        middle = tf.concat([one,two,three],axis=1)\n",
    "        image = tf.concat([image[0:ya,:,:],middle,image[yb:DIM,:,:]],axis=0)\n",
    "            \n",
    "    # RESHAPE HACK SO TPU COMPILER KNOWS SHAPE OF OUTPUT TENSOR \n",
    "    image = tf.reshape(image,[DIM,DIM,3])\n",
    "    return image"
   ]
  },
  {
   "cell_type": "code",
   "execution_count": 6,
   "metadata": {
    "execution": {
     "iopub.execute_input": "2021-02-10T04:53:28.775249Z",
     "iopub.status.busy": "2021-02-10T04:53:28.774477Z",
     "iopub.status.idle": "2021-02-10T04:53:28.777624Z",
     "shell.execute_reply": "2021-02-10T04:53:28.778094Z"
    },
    "papermill": {
     "duration": 0.047833,
     "end_time": "2021-02-10T04:53:28.778333",
     "exception": false,
     "start_time": "2021-02-10T04:53:28.730500",
     "status": "completed"
    },
    "tags": []
   },
   "outputs": [],
   "source": [
    "def onehot(image,label):\n",
    "    return image,tf.one_hot(label,len(CLASSES))\n",
    "\n",
    "\n",
    "def cutmix(image, label, PROBABILITY = 1.0):\n",
    "    # input image - is a batch of images of size [n,dim,dim,3] not a single image of [dim,dim,3]\n",
    "    # output - a batch of images with cutmix applied\n",
    "    DIM = IMAGE_SIZE[0]\n",
    "    CLASSES = 5\n",
    "    \n",
    "    imgs = []; labs = []\n",
    "    for j in range(AUG_BATCH):\n",
    "        # DO CUTMIX WITH PROBABILITY DEFINED ABOVE\n",
    "        P = tf.cast( tf.random.uniform([],0,1)<=PROBABILITY, tf.int32)\n",
    "        # CHOOSE RANDOM IMAGE TO CUTMIX WITH\n",
    "        k = tf.cast( tf.random.uniform([],0,AUG_BATCH),tf.int32)\n",
    "        # CHOOSE RANDOM LOCATION\n",
    "        x = tf.cast( tf.random.uniform([],0,DIM),tf.int32)\n",
    "        y = tf.cast( tf.random.uniform([],0,DIM),tf.int32)\n",
    "        b = tf.random.uniform([],0,1) # this is beta dist with alpha=1.0\n",
    "        WIDTH = tf.cast( DIM * tf.math.sqrt(1-b),tf.int32) * P\n",
    "        ya = tf.math.maximum(0,y-WIDTH//2)\n",
    "        yb = tf.math.minimum(DIM,y+WIDTH//2)\n",
    "        xa = tf.math.maximum(0,x-WIDTH//2)\n",
    "        xb = tf.math.minimum(DIM,x+WIDTH//2)\n",
    "        # MAKE CUTMIX IMAGE\n",
    "        one = image[j,ya:yb,0:xa,:]\n",
    "        two = image[k,ya:yb,xa:xb,:]\n",
    "        three = image[j,ya:yb,xb:DIM,:]\n",
    "        middle = tf.concat([one,two,three],axis=1)\n",
    "        img = tf.concat([image[j,0:ya,:,:],middle,image[j,yb:DIM,:,:]],axis=0)\n",
    "        imgs.append(img)\n",
    "        # MAKE CUTMIX LABEL\n",
    "        a = tf.cast(WIDTH*WIDTH/DIM/DIM,tf.float32)\n",
    "        if len(label.shape)==1:\n",
    "            lab1 = tf.one_hot(label[j],CLASSES)\n",
    "            lab2 = tf.one_hot(label[k],CLASSES)\n",
    "        else:\n",
    "            lab1 = label[j,]\n",
    "            lab2 = label[k,]\n",
    "        labs.append((1-a)*lab1 + a*lab2)\n",
    "            \n",
    "    # RESHAPE HACK SO TPU COMPILER KNOWS SHAPE OF OUTPUT TENSOR (maybe use Python typing instead?)\n",
    "    image2 = tf.reshape(tf.stack(imgs),(AUG_BATCH,DIM,DIM,3))\n",
    "    label2 = tf.reshape(tf.stack(labs),(AUG_BATCH,CLASSES))\n",
    "    return image2,label2\n",
    "\n",
    "def mixup(image, label, PROBABILITY = 1.0):\n",
    "    # input image - is a batch of images of size [n,dim,dim,3] not a single image of [dim,dim,3]\n",
    "    # output - a batch of images with mixup applied\n",
    "    DIM = IMAGE_SIZE[0]\n",
    "    CLASSES = 5\n",
    "    \n",
    "    imgs = []; labs = []\n",
    "    for j in range(AUG_BATCH):\n",
    "        # DO MIXUP WITH PROBABILITY DEFINED ABOVE\n",
    "        P = tf.cast( tf.random.uniform([],0,1)<=PROBABILITY, tf.float32)\n",
    "        # CHOOSE RANDOM\n",
    "        k = tf.cast( tf.random.uniform([],0,AUG_BATCH),tf.int32)\n",
    "        a = tf.random.uniform([],0,1)*P # this is beta dist with alpha=1.0\n",
    "        # MAKE MIXUP IMAGE\n",
    "        img1 = image[j,]\n",
    "        img2 = image[k,]\n",
    "        imgs.append((1-a)*img1 + a*img2)\n",
    "        # MAKE CUTMIX LABEL\n",
    "        if len(label.shape)==1:\n",
    "            lab1 = tf.one_hot(label[j],CLASSES)\n",
    "            lab2 = tf.one_hot(label[k],CLASSES)\n",
    "        else:\n",
    "            lab1 = label[j,]\n",
    "            lab2 = label[k,]\n",
    "        labs.append((1-a)*lab1 + a*lab2)\n",
    "        \n",
    "    # RESHAPE HACK SO TPU COMPILER KNOWS SHAPE OF OUTPUT TENSOR (maybe use Python typing instead?)\n",
    "    image2 = tf.reshape(tf.stack(imgs),(AUG_BATCH,DIM,DIM,3))\n",
    "    label2 = tf.reshape(tf.stack(labs),(AUG_BATCH,CLASSES))\n",
    "    return image2,label2\n",
    "\n",
    "def transform(image,label):\n",
    "    # THIS FUNCTION APPLIES BOTH CUTMIX AND MIXUP\n",
    "    DIM = IMAGE_SIZE[0]\n",
    "    CLASSES = 5\n",
    "    SWITCH = 0.5\n",
    "    CUTMIX_PROB = 0.666\n",
    "    MIXUP_PROB = 0.666\n",
    "    # FOR SWITCH PERCENT OF TIME WE DO CUTMIX AND (1-SWITCH) WE DO MIXUP\n",
    "    image1 = []\n",
    "    for j in range(AUG_BATCH):\n",
    "        img = transform_mat(image[j,])\n",
    "        img = tf.image.random_flip_left_right(img)\n",
    "        img = tf.image.random_saturation(img, 0.7, 1.3)\n",
    "        img = tf.image.random_contrast(img, 0.8, 1.2)\n",
    "        img = tf.image.random_brightness(img, 0.1)\n",
    "        image1.append(img)\n",
    "        \n",
    "    image1 = tf.reshape(tf.stack(image1),(AUG_BATCH,DIM,DIM,3))\n",
    "    image2, label2 = cutmix(image1, label, CUTMIX_PROB)\n",
    "    image3, label3 = mixup(image1, label, MIXUP_PROB)\n",
    "    imgs = []; labs = []\n",
    "    for j in range(AUG_BATCH):\n",
    "        P = tf.cast( tf.random.uniform([],0,1)<=SWITCH, tf.float32)\n",
    "        imgs.append(P*image2[j,]+(1-P)*image3[j,])\n",
    "        labs.append(P*label2[j,]+(1-P)*label3[j,])\n",
    "    \n",
    "    # RESHAPE HACK SO TPU COMPILER KNOWS SHAPE OF OUTPUT TENSOR (maybe use Python typing instead?)\n",
    "    image4 = tf.reshape(tf.stack(imgs),(AUG_BATCH,DIM,DIM,3))\n",
    "    label4 = tf.reshape(tf.stack(labs),(AUG_BATCH,CLASSES))\n",
    "    return image4,label4"
   ]
  },
  {
   "cell_type": "code",
   "execution_count": 7,
   "metadata": {
    "execution": {
     "iopub.execute_input": "2021-02-10T04:53:28.816812Z",
     "iopub.status.busy": "2021-02-10T04:53:28.816076Z",
     "iopub.status.idle": "2021-02-10T04:53:28.819667Z",
     "shell.execute_reply": "2021-02-10T04:53:28.819102Z"
    },
    "papermill": {
     "duration": 0.028138,
     "end_time": "2021-02-10T04:53:28.819824",
     "exception": false,
     "start_time": "2021-02-10T04:53:28.791686",
     "status": "completed"
    },
    "tags": []
   },
   "outputs": [],
   "source": [
    "def decode_image(image):\n",
    "    image = tf.image.decode_jpeg(image, channels=3)\n",
    "    image = tf.image.resize(image, IMAGE_SIZE)\n",
    "    image = tf.cast(image, tf.float32) / 255.0     ###\n",
    "    image = tf.reshape(image, [*IMAGE_SIZE, 3])\n",
    "    return image\n",
    "\n",
    "def read_tfrecord(example, labeled):\n",
    "    tfrecord_format = {\n",
    "        \"image\": tf.io.FixedLenFeature([], tf.string),\n",
    "        \"target\": tf.io.FixedLenFeature([], tf.int64)\n",
    "    } if labeled else {\n",
    "        \"image\": tf.io.FixedLenFeature([], tf.string),\n",
    "        \"image_name\": tf.io.FixedLenFeature([], tf.string)\n",
    "    }\n",
    "    example = tf.io.parse_single_example(example, tfrecord_format)\n",
    "    image = decode_image(example['image'])\n",
    "    if labeled:\n",
    "        label = tf.cast(example['target'], tf.int32)\n",
    "        return image, label\n",
    "    idnum = example['image_name']\n",
    "    return image, idnum\n",
    "\n",
    "def load_dataset(filenames, labeled=True, ordered=False):\n",
    "    ignore_order = tf.data.Options()\n",
    "    if not ordered:\n",
    "        ignore_order.experimental_deterministic = False # disable order, increase speed\n",
    "    dataset = tf.data.TFRecordDataset(filenames, num_parallel_reads=AUTOTUNE) # automatically interleaves reads from multiple files\n",
    "    dataset = dataset.with_options(ignore_order) # uses data as soon as it streams in, rather than in its original order\n",
    "    dataset = dataset.map(partial(read_tfrecord, labeled=labeled), num_parallel_calls=AUTOTUNE)\n",
    "    return dataset"
   ]
  },
  {
   "cell_type": "code",
   "execution_count": 8,
   "metadata": {
    "execution": {
     "iopub.execute_input": "2021-02-10T04:53:28.859024Z",
     "iopub.status.busy": "2021-02-10T04:53:28.857898Z",
     "iopub.status.idle": "2021-02-10T04:53:28.862397Z",
     "shell.execute_reply": "2021-02-10T04:53:28.861844Z"
    },
    "papermill": {
     "duration": 0.029085,
     "end_time": "2021-02-10T04:53:28.862548",
     "exception": false,
     "start_time": "2021-02-10T04:53:28.833463",
     "status": "completed"
    },
    "tags": []
   },
   "outputs": [],
   "source": [
    "rng = tf.random.Generator.from_seed(SEED, alg='philox')\n",
    "\n",
    "def data_augment(image, label):\n",
    "    seed = rng.make_seeds(2)[0]\n",
    "    image = tf.image.stateless_random_flip_left_right(image, seed=seed)\n",
    "    image = tf.image.stateless_random_flip_up_down(image, seed=seed)\n",
    "    image = tf.image.stateless_random_brightness(image, 0.3, seed=seed)\n",
    "    image = dropout(image)\n",
    "    return image, label\n",
    "\n",
    "def get_training_dataset(FILENAMES):\n",
    "    dataset = load_dataset(FILENAMES, labeled=True)\n",
    "    dataset = dataset.map(data_augment, num_parallel_calls=AUTOTUNE)\n",
    "    dataset = dataset.repeat()\n",
    "    dataset = dataset.shuffle(2048, seed = SEED)\n",
    "    dataset = dataset.batch(AUG_BATCH)\n",
    "    dataset = dataset.map(transform, num_parallel_calls=AUTOTUNE)\n",
    "    dataset = dataset.prefetch(AUTOTUNE)\n",
    "    return dataset\n",
    "\n",
    "def get_validation_dataset(FILENAMES):\n",
    "    dataset = load_dataset(FILENAMES, labeled=True)\n",
    "    dataset = dataset.batch(BATCH_SIZE)\n",
    "    dataset = dataset.map(onehot, num_parallel_calls=AUTOTUNE)\n",
    "    dataset = dataset.cache()\n",
    "    dataset = dataset.prefetch(AUTOTUNE)\n",
    "    return dataset"
   ]
  },
  {
   "cell_type": "code",
   "execution_count": 9,
   "metadata": {
    "execution": {
     "iopub.execute_input": "2021-02-10T04:53:28.895916Z",
     "iopub.status.busy": "2021-02-10T04:53:28.895244Z",
     "iopub.status.idle": "2021-02-10T04:53:29.085264Z",
     "shell.execute_reply": "2021-02-10T04:53:29.084652Z"
    },
    "papermill": {
     "duration": 0.209086,
     "end_time": "2021-02-10T04:53:29.085424",
     "exception": false,
     "start_time": "2021-02-10T04:53:28.876338",
     "status": "completed"
    },
    "tags": []
   },
   "outputs": [],
   "source": [
    "TRAINING_FILENAMES = tf.io.gfile.glob(GCS_PATH + \"/Id_train*.tfrec\")"
   ]
  },
  {
   "cell_type": "code",
   "execution_count": 10,
   "metadata": {
    "execution": {
     "iopub.execute_input": "2021-02-10T04:53:29.120906Z",
     "iopub.status.busy": "2021-02-10T04:53:29.120235Z",
     "iopub.status.idle": "2021-02-10T04:53:29.123741Z",
     "shell.execute_reply": "2021-02-10T04:53:29.123051Z"
    },
    "papermill": {
     "duration": 0.0245,
     "end_time": "2021-02-10T04:53:29.123890",
     "exception": false,
     "start_time": "2021-02-10T04:53:29.099390",
     "status": "completed"
    },
    "tags": []
   },
   "outputs": [],
   "source": [
    "def get_lr_callback(batch_size=BATCH_SIZE):\n",
    "    lr_start   = 0.000001\n",
    "    lr_max     = 0.00000250 * strategy.num_replicas_in_sync * batch_size\n",
    "    lr_min     = 0.000001\n",
    "    lr_ramp_ep = 5\n",
    "    lr_sus_ep  = 0\n",
    "    lr_decay   = 0.92\n",
    "   \n",
    "    def lrfn(epoch):\n",
    "        if epoch < lr_ramp_ep:\n",
    "            lr = (lr_max - lr_start) / lr_ramp_ep * epoch + lr_start\n",
    "        elif epoch < lr_ramp_ep + lr_sus_ep:\n",
    "            lr = lr_max\n",
    "        else:\n",
    "            lr = (lr_max - lr_min) * lr_decay**(epoch - lr_ramp_ep - lr_sus_ep) + lr_min\n",
    "        return lr\n",
    "    \n",
    "    lr_callback = tf.keras.callbacks.LearningRateScheduler(lrfn, verbose=1)\n",
    "    return lr_callback"
   ]
  },
  {
   "cell_type": "code",
   "execution_count": 11,
   "metadata": {
    "execution": {
     "iopub.execute_input": "2021-02-10T04:53:29.162086Z",
     "iopub.status.busy": "2021-02-10T04:53:29.161369Z",
     "iopub.status.idle": "2021-02-10T04:53:55.896730Z",
     "shell.execute_reply": "2021-02-10T04:53:55.896147Z"
    },
    "papermill": {
     "duration": 26.759265,
     "end_time": "2021-02-10T04:53:55.896881",
     "exception": false,
     "start_time": "2021-02-10T04:53:29.137616",
     "status": "completed"
    },
    "tags": []
   },
   "outputs": [
    {
     "name": "stdout",
     "output_type": "stream",
     "text": [
      "Downloading data from https://github.com/qubvel/efficientnet/releases/download/v0.0.1/efficientnet-b4_noisy-student_notop.h5\n",
      "71680000/71678424 [==============================] - 2s 0us/step\n",
      "Model: \"model\"\n",
      "_________________________________________________________________\n",
      "Layer (type)                 Output Shape              Param #   \n",
      "=================================================================\n",
      "input_1 (InputLayer)         [(None, 512, 512, 3)]     0         \n",
      "_________________________________________________________________\n",
      "efficientnet-b4 (Functional) (None, 16, 16, 1792)      17673816  \n",
      "_________________________________________________________________\n",
      "global_average_pooling2d (Gl (None, 1792)              0         \n",
      "_________________________________________________________________\n",
      "dropout (Dropout)            (None, 1792)              0         \n",
      "_________________________________________________________________\n",
      "dense (Dense)                (None, 5)                 8965      \n",
      "=================================================================\n",
      "Total params: 17,682,781\n",
      "Trainable params: 17,557,581\n",
      "Non-trainable params: 125,200\n",
      "_________________________________________________________________\n",
      "None\n"
     ]
    }
   ],
   "source": [
    "def get_model():\n",
    "    with strategy.scope():       \n",
    "        input_layer = tf.keras.layers.Input(shape=(512,512,3))\n",
    "        base = efn.EfficientNetB4(input_shape=(512,512,3),weights='noisy-student',include_top=False)\n",
    "        base.trainable = True\n",
    "        \n",
    "        x = base(input_layer)\n",
    "        x = tf.keras.layers.GlobalAveragePooling2D()(x)\n",
    "        x = tf.keras.layers.Dropout(0.3)(x)\n",
    "        output_layer = tf.keras.layers.Dense(5,activation='softmax')(x)\n",
    "        model = tf.keras.Model(inputs=input_layer, outputs=output_layer)\n",
    "        \n",
    "        opt = tf.keras.optimizers.Adam(learning_rate=1e-3)\n",
    "        loss = tf.keras.losses.CategoricalCrossentropy(\n",
    "            from_logits=False,\n",
    "            label_smoothing=0.01,  #0.001\n",
    "            name='categorical_crossentropy')\n",
    "        \n",
    "        model.compile(optimizer=opt,loss=loss,metrics=['categorical_accuracy'])\n",
    "    return model\n",
    "\n",
    "model = get_model()\n",
    "print(model.summary())\n",
    "del model"
   ]
  },
  {
   "cell_type": "code",
   "execution_count": 12,
   "metadata": {
    "execution": {
     "iopub.execute_input": "2021-02-10T04:53:55.957333Z",
     "iopub.status.busy": "2021-02-10T04:53:55.956422Z",
     "iopub.status.idle": "2021-02-10T04:53:55.960318Z",
     "shell.execute_reply": "2021-02-10T04:53:55.959640Z"
    },
    "papermill": {
     "duration": 0.036247,
     "end_time": "2021-02-10T04:53:55.960477",
     "exception": false,
     "start_time": "2021-02-10T04:53:55.924230",
     "status": "completed"
    },
    "tags": []
   },
   "outputs": [],
   "source": [
    "def count_data_items(filenames):\n",
    "    n = [int(re.compile(r\"-([0-9]*)\\.\").search(filename).group(1)) for filename in filenames]\n",
    "    return np.sum(n)\n",
    "\n",
    "NUM_TRAINING_IMAGES = count_data_items(TRAINING_FILENAMES)\n",
    "STEPS_PER_EPOCH = NUM_TRAINING_IMAGES // BATCH_SIZE"
   ]
  },
  {
   "cell_type": "code",
   "execution_count": 13,
   "metadata": {
    "execution": {
     "iopub.execute_input": "2021-02-10T04:53:56.020586Z",
     "iopub.status.busy": "2021-02-10T04:53:56.019693Z",
     "iopub.status.idle": "2021-02-10T04:53:56.023698Z",
     "shell.execute_reply": "2021-02-10T04:53:56.023121Z"
    },
    "papermill": {
     "duration": 0.035649,
     "end_time": "2021-02-10T04:53:56.023842",
     "exception": false,
     "start_time": "2021-02-10T04:53:55.988193",
     "status": "completed"
    },
    "tags": []
   },
   "outputs": [],
   "source": [
    "CP = tf.keras.callbacks.ModelCheckpoint('fcomp_model_new.h5',\n",
    "                                            monitor='categorical_accuracy', verbose=1, save_best_only=True,\n",
    "                                            save_weights_only=False, mode='max', save_freq='epoch')"
   ]
  },
  {
   "cell_type": "code",
   "execution_count": 14,
   "metadata": {
    "execution": {
     "iopub.execute_input": "2021-02-10T04:53:56.088218Z",
     "iopub.status.busy": "2021-02-10T04:53:56.087180Z",
     "iopub.status.idle": "2021-02-10T05:46:02.010684Z",
     "shell.execute_reply": "2021-02-10T05:46:02.009904Z"
    },
    "papermill": {
     "duration": 3125.960916,
     "end_time": "2021-02-10T05:46:02.010844",
     "exception": false,
     "start_time": "2021-02-10T04:53:56.049928",
     "status": "completed"
    },
    "tags": []
   },
   "outputs": [
    {
     "name": "stdout",
     "output_type": "stream",
     "text": [
      "Epoch 1/30\n",
      "\n",
      "Epoch 00001: LearningRateScheduler reducing learning rate to 1e-06.\n",
      "334/334 [==============================] - 202s 322ms/step - loss: 1.6086 - categorical_accuracy: 0.2396\n",
      "\n",
      "Epoch 00001: categorical_accuracy improved from -inf to 0.30820, saving model to fcomp_model_new.h5\n",
      "Epoch 2/30\n",
      "\n",
      "Epoch 00002: LearningRateScheduler reducing learning rate to 0.00025680000000000006.\n",
      "334/334 [==============================] - 96s 287ms/step - loss: 0.9784 - categorical_accuracy: 0.6812\n",
      "\n",
      "Epoch 00002: categorical_accuracy improved from 0.30820 to 0.72137, saving model to fcomp_model_new.h5\n",
      "Epoch 3/30\n",
      "\n",
      "Epoch 00003: LearningRateScheduler reducing learning rate to 0.0005126000000000001.\n",
      "334/334 [==============================] - 93s 278ms/step - loss: 0.7673 - categorical_accuracy: 0.7681\n",
      "\n",
      "Epoch 00003: categorical_accuracy improved from 0.72137 to 0.77072, saving model to fcomp_model_new.h5\n",
      "Epoch 4/30\n",
      "\n",
      "Epoch 00004: LearningRateScheduler reducing learning rate to 0.0007684000000000001.\n",
      "334/334 [==============================] - 93s 279ms/step - loss: 0.7611 - categorical_accuracy: 0.7740\n",
      "\n",
      "Epoch 00004: categorical_accuracy improved from 0.77072 to 0.77886, saving model to fcomp_model_new.h5\n",
      "Epoch 5/30\n",
      "\n",
      "Epoch 00005: LearningRateScheduler reducing learning rate to 0.0010242.\n",
      "334/334 [==============================] - 91s 272ms/step - loss: 0.7404 - categorical_accuracy: 0.7737\n",
      "\n",
      "Epoch 00005: categorical_accuracy did not improve from 0.77886\n",
      "Epoch 6/30\n",
      "\n",
      "Epoch 00006: LearningRateScheduler reducing learning rate to 0.00128.\n",
      "334/334 [==============================] - 96s 287ms/step - loss: 0.7212 - categorical_accuracy: 0.7804\n",
      "\n",
      "Epoch 00006: categorical_accuracy did not improve from 0.77886\n",
      "Epoch 7/30\n",
      "\n",
      "Epoch 00007: LearningRateScheduler reducing learning rate to 0.0011776800000000002.\n",
      "334/334 [==============================] - 96s 287ms/step - loss: 0.7172 - categorical_accuracy: 0.7842\n",
      "\n",
      "Epoch 00007: categorical_accuracy improved from 0.77886 to 0.78962, saving model to fcomp_model_new.h5\n",
      "Epoch 8/30\n",
      "\n",
      "Epoch 00008: LearningRateScheduler reducing learning rate to 0.0010835456000000002.\n",
      "334/334 [==============================] - 91s 273ms/step - loss: 0.6915 - categorical_accuracy: 0.7991\n",
      "\n",
      "Epoch 00008: categorical_accuracy improved from 0.78962 to 0.79664, saving model to fcomp_model_new.h5\n",
      "Epoch 9/30\n",
      "\n",
      "Epoch 00009: LearningRateScheduler reducing learning rate to 0.0009969419520000002.\n",
      "334/334 [==============================] - 92s 275ms/step - loss: 0.6868 - categorical_accuracy: 0.7977\n",
      "\n",
      "Epoch 00009: categorical_accuracy improved from 0.79664 to 0.80113, saving model to fcomp_model_new.h5\n",
      "Epoch 10/30\n",
      "\n",
      "Epoch 00010: LearningRateScheduler reducing learning rate to 0.0009172665958400003.\n",
      "334/334 [==============================] - 90s 270ms/step - loss: 0.6728 - categorical_accuracy: 0.7951\n",
      "\n",
      "Epoch 00010: categorical_accuracy improved from 0.80113 to 0.80338, saving model to fcomp_model_new.h5\n",
      "Epoch 11/30\n",
      "\n",
      "Epoch 00011: LearningRateScheduler reducing learning rate to 0.0008439652681728003.\n",
      "334/334 [==============================] - 92s 275ms/step - loss: 0.6367 - categorical_accuracy: 0.8168\n",
      "\n",
      "Epoch 00011: categorical_accuracy improved from 0.80338 to 0.81058, saving model to fcomp_model_new.h5\n",
      "Epoch 12/30\n",
      "\n",
      "Epoch 00012: LearningRateScheduler reducing learning rate to 0.0007765280467189763.\n",
      "334/334 [==============================] - 96s 286ms/step - loss: 0.6421 - categorical_accuracy: 0.8163\n",
      "\n",
      "Epoch 00012: categorical_accuracy improved from 0.81058 to 0.81802, saving model to fcomp_model_new.h5\n",
      "Epoch 13/30\n",
      "\n",
      "Epoch 00013: LearningRateScheduler reducing learning rate to 0.0007144858029814583.\n",
      "334/334 [==============================] - 91s 272ms/step - loss: 0.6399 - categorical_accuracy: 0.8141\n",
      "\n",
      "Epoch 00013: categorical_accuracy improved from 0.81802 to 0.81849, saving model to fcomp_model_new.h5\n",
      "Epoch 14/30\n",
      "\n",
      "Epoch 00014: LearningRateScheduler reducing learning rate to 0.0006574069387429416.\n",
      "334/334 [==============================] - 94s 281ms/step - loss: 0.6241 - categorical_accuracy: 0.8185\n",
      "\n",
      "Epoch 00014: categorical_accuracy improved from 0.81849 to 0.81891, saving model to fcomp_model_new.h5\n",
      "Epoch 15/30\n",
      "\n",
      "Epoch 00015: LearningRateScheduler reducing learning rate to 0.0006048943836435063.\n",
      "334/334 [==============================] - 94s 282ms/step - loss: 0.6148 - categorical_accuracy: 0.8272\n",
      "\n",
      "Epoch 00015: categorical_accuracy improved from 0.81891 to 0.82911, saving model to fcomp_model_new.h5\n",
      "Epoch 16/30\n",
      "\n",
      "Epoch 00016: LearningRateScheduler reducing learning rate to 0.0005565828329520258.\n",
      "334/334 [==============================] - 93s 277ms/step - loss: 0.6138 - categorical_accuracy: 0.8260\n",
      "\n",
      "Epoch 00016: categorical_accuracy did not improve from 0.82911\n",
      "Epoch 17/30\n",
      "\n",
      "Epoch 00017: LearningRateScheduler reducing learning rate to 0.0005121362063158639.\n",
      "334/334 [==============================] - 92s 276ms/step - loss: 0.5982 - categorical_accuracy: 0.8294\n",
      "\n",
      "Epoch 00017: categorical_accuracy improved from 0.82911 to 0.83196, saving model to fcomp_model_new.h5\n",
      "Epoch 18/30\n",
      "\n",
      "Epoch 00018: LearningRateScheduler reducing learning rate to 0.0004712453098105947.\n",
      "334/334 [==============================] - 97s 289ms/step - loss: 0.6029 - categorical_accuracy: 0.8323\n",
      "\n",
      "Epoch 00018: categorical_accuracy improved from 0.83196 to 0.83257, saving model to fcomp_model_new.h5\n",
      "Epoch 19/30\n",
      "\n",
      "Epoch 00019: LearningRateScheduler reducing learning rate to 0.0004336256850257472.\n",
      "334/334 [==============================] - 93s 279ms/step - loss: 0.5811 - categorical_accuracy: 0.8387\n",
      "\n",
      "Epoch 00019: categorical_accuracy improved from 0.83257 to 0.84034, saving model to fcomp_model_new.h5\n",
      "Epoch 20/30\n",
      "\n",
      "Epoch 00020: LearningRateScheduler reducing learning rate to 0.00039901563022368743.\n",
      "334/334 [==============================] - 94s 282ms/step - loss: 0.5872 - categorical_accuracy: 0.8384\n",
      "\n",
      "Epoch 00020: categorical_accuracy improved from 0.84034 to 0.84239, saving model to fcomp_model_new.h5\n",
      "Epoch 21/30\n",
      "\n",
      "Epoch 00021: LearningRateScheduler reducing learning rate to 0.00036717437980579245.\n",
      "334/334 [==============================] - 96s 289ms/step - loss: 0.5877 - categorical_accuracy: 0.8391\n",
      "\n",
      "Epoch 00021: categorical_accuracy improved from 0.84239 to 0.84244, saving model to fcomp_model_new.h5\n",
      "Epoch 22/30\n",
      "\n",
      "Epoch 00022: LearningRateScheduler reducing learning rate to 0.0003378804294213291.\n",
      "334/334 [==============================] - 96s 289ms/step - loss: 0.5693 - categorical_accuracy: 0.8430\n",
      "\n",
      "Epoch 00022: categorical_accuracy improved from 0.84244 to 0.84614, saving model to fcomp_model_new.h5\n",
      "Epoch 23/30\n",
      "\n",
      "Epoch 00023: LearningRateScheduler reducing learning rate to 0.00031092999506762275.\n",
      "334/334 [==============================] - 94s 280ms/step - loss: 0.5632 - categorical_accuracy: 0.8521\n",
      "\n",
      "Epoch 00023: categorical_accuracy improved from 0.84614 to 0.85002, saving model to fcomp_model_new.h5\n",
      "Epoch 24/30\n",
      "\n",
      "Epoch 00024: LearningRateScheduler reducing learning rate to 0.00028613559546221293.\n",
      "334/334 [==============================] - 96s 288ms/step - loss: 0.5674 - categorical_accuracy: 0.8502\n",
      "\n",
      "Epoch 00024: categorical_accuracy improved from 0.85002 to 0.85531, saving model to fcomp_model_new.h5\n",
      "Epoch 25/30\n",
      "\n",
      "Epoch 00025: LearningRateScheduler reducing learning rate to 0.00026332474782523593.\n",
      "334/334 [==============================] - 96s 287ms/step - loss: 0.5634 - categorical_accuracy: 0.8502\n",
      "\n",
      "Epoch 00025: categorical_accuracy did not improve from 0.85531\n",
      "Epoch 26/30\n",
      "\n",
      "Epoch 00026: LearningRateScheduler reducing learning rate to 0.00024233876799921702.\n",
      "334/334 [==============================] - 96s 286ms/step - loss: 0.5564 - categorical_accuracy: 0.8499\n",
      "\n",
      "Epoch 00026: categorical_accuracy did not improve from 0.85531\n",
      "Epoch 27/30\n",
      "\n",
      "Epoch 00027: LearningRateScheduler reducing learning rate to 0.0002230316665592797.\n",
      "334/334 [==============================] - 96s 287ms/step - loss: 0.5505 - categorical_accuracy: 0.8576\n",
      "\n",
      "Epoch 00027: categorical_accuracy improved from 0.85531 to 0.85914, saving model to fcomp_model_new.h5\n",
      "Epoch 28/30\n",
      "\n",
      "Epoch 00028: LearningRateScheduler reducing learning rate to 0.0002052691332345373.\n",
      "334/334 [==============================] - 93s 278ms/step - loss: 0.5425 - categorical_accuracy: 0.8577\n",
      "\n",
      "Epoch 00028: categorical_accuracy improved from 0.85914 to 0.85998, saving model to fcomp_model_new.h5\n",
      "Epoch 29/30\n",
      "\n",
      "Epoch 00029: LearningRateScheduler reducing learning rate to 0.00018892760257577435.\n",
      "334/334 [==============================] - 97s 290ms/step - loss: 0.5404 - categorical_accuracy: 0.8613\n",
      "\n",
      "Epoch 00029: categorical_accuracy improved from 0.85998 to 0.86115, saving model to fcomp_model_new.h5\n",
      "Epoch 30/30\n",
      "\n",
      "Epoch 00030: LearningRateScheduler reducing learning rate to 0.0001738933943697124.\n",
      "334/334 [==============================] - 97s 290ms/step - loss: 0.5407 - categorical_accuracy: 0.8645\n",
      "\n",
      "Epoch 00030: categorical_accuracy improved from 0.86115 to 0.86527, saving model to fcomp_model_new.h5\n"
     ]
    }
   ],
   "source": [
    "model = get_model()\n",
    "history = model.fit(get_training_dataset(TRAINING_FILENAMES), \n",
    "                    steps_per_epoch=STEPS_PER_EPOCH, \n",
    "                    epochs=EPOCHS,\n",
    "                    #validation_data=valid_dataset,\n",
    "                    #validation_steps=VALID_STEPS,\n",
    "                    callbacks = [get_lr_callback(BATCH_SIZE), CP])"
   ]
  },
  {
   "cell_type": "code",
   "execution_count": 15,
   "metadata": {
    "execution": {
     "iopub.execute_input": "2021-02-10T05:46:08.243629Z",
     "iopub.status.busy": "2021-02-10T05:46:08.242933Z",
     "iopub.status.idle": "2021-02-10T05:46:08.647194Z",
     "shell.execute_reply": "2021-02-10T05:46:08.647683Z"
    },
    "papermill": {
     "duration": 3.49548,
     "end_time": "2021-02-10T05:46:08.647865",
     "exception": false,
     "start_time": "2021-02-10T05:46:05.152385",
     "status": "completed"
    },
    "tags": []
   },
   "outputs": [
    {
     "data": {
      "image/png": "[encoded data removed]",
      "text/plain": [
       "<Figure size 432x288 with 1 Axes>"
      ]
     },
     "metadata": {
      "needs_background": "light"
     },
     "output_type": "display_data"
    },
    {
     "data": {
      "image/png": "[encoded data removed]",
      "text/plain": [
       "<Figure size 432x288 with 1 Axes>"
      ]
     },
     "metadata": {
      "needs_background": "light"
     },
     "output_type": "display_data"
    }
   ],
   "source": [
    "history_frame = pd.DataFrame(history.history)\n",
    "history_frame.loc[:, ['loss']].plot()                      #, 'val_loss'\n",
    "history_frame.loc[:, ['categorical_accuracy']].plot();         #,  'val_sparse_categorical_accuracy'"
   ]
  },
  {
   "cell_type": "code",
   "execution_count": null,
   "metadata": {
    "papermill": {
     "duration": 3.072843,
     "end_time": "2021-02-10T05:46:14.892709",
     "exception": false,
     "start_time": "2021-02-10T05:46:11.819866",
     "status": "completed"
    },
    "tags": []
   },
   "outputs": [],
   "source": []
  }
 ],
 "metadata": {
  "kernelspec": {
   "display_name": "Python 3",
   "language": "python",
   "name": "python3"
  },
  "language_info": {
   "codemirror_mode": {
    "name": "ipython",
    "version": 3
   },
   "file_extension": ".py",
   "mimetype": "text/x-python",
   "name": "python",
   "nbconvert_exporter": "python",
   "pygments_lexer": "ipython3",
   "version": "3.7.9"
  },
  "papermill": {
   "default_parameters": {},
   "duration": 3213.815251,
   "end_time": "2021-02-10T05:46:23.095401",
   "environment_variables": {},
   "exception": null,
   "input_path": "__notebook__.ipynb",
   "output_path": "__notebook__.ipynb",
   "parameters": {},
   "start_time": "2021-02-10T04:52:49.280150",
   "version": "2.2.2"
  }
 },
 "nbformat": 4,
 "nbformat_minor": 4
}
