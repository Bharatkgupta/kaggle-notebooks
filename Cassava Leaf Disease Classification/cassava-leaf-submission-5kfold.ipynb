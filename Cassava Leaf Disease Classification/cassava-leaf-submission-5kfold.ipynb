{
 "cells": [
  {
   "cell_type": "code",
   "execution_count": 1,
   "metadata": {
    "execution": {
     "iopub.execute_input": "2021-02-09T18:18:43.962364Z",
     "iopub.status.busy": "2021-02-09T18:18:43.961491Z",
     "iopub.status.idle": "2021-02-09T18:19:45.824775Z",
     "shell.execute_reply": "2021-02-09T18:19:45.824104Z"
    },
    "papermill": {
     "duration": 61.882563,
     "end_time": "2021-02-09T18:19:45.824923",
     "exception": false,
     "start_time": "2021-02-09T18:18:43.942360",
     "status": "completed"
    },
    "tags": []
   },
   "outputs": [],
   "source": [
    "!pip install --quiet /kaggle/input/kerasapplications\n",
    "!pip install --quiet /kaggle/input/efficientnet-keras-source-code"
   ]
  },
  {
   "cell_type": "code",
   "execution_count": 2,
   "metadata": {
    "_cell_guid": "79c7e3d0-c299-4dcb-8224-4455121ee9b0",
    "_uuid": "d629ff2d2480ee46fbb7e2d37f6b5fab8052498a",
    "execution": {
     "iopub.execute_input": "2021-02-09T18:19:45.852018Z",
     "iopub.status.busy": "2021-02-09T18:19:45.851091Z",
     "iopub.status.idle": "2021-02-09T18:19:52.569529Z",
     "shell.execute_reply": "2021-02-09T18:19:52.567845Z"
    },
    "papermill": {
     "duration": 6.734041,
     "end_time": "2021-02-09T18:19:52.569691",
     "exception": false,
     "start_time": "2021-02-09T18:19:45.835650",
     "status": "completed"
    },
    "tags": []
   },
   "outputs": [],
   "source": [
    "import math, os, random, re\n",
    "import tensorflow as tf\n",
    "import numpy as np\n",
    "import pandas as pd\n",
    "from kaggle_datasets import KaggleDatasets\n",
    "from tensorflow import keras\n",
    "import efficientnet.tfkeras as efn\n",
    "from functools import partial"
   ]
  },
  {
   "cell_type": "code",
   "execution_count": 3,
   "metadata": {
    "execution": {
     "iopub.execute_input": "2021-02-09T18:19:52.596908Z",
     "iopub.status.busy": "2021-02-09T18:19:52.594828Z",
     "iopub.status.idle": "2021-02-09T18:19:52.597883Z",
     "shell.execute_reply": "2021-02-09T18:19:52.598437Z"
    },
    "papermill": {
     "duration": 0.019109,
     "end_time": "2021-02-09T18:19:52.598607",
     "exception": false,
     "start_time": "2021-02-09T18:19:52.579498",
     "status": "completed"
    },
    "tags": []
   },
   "outputs": [],
   "source": [
    "AUTOTUNE = tf.data.experimental.AUTOTUNE\n",
    "BATCH_SIZE = 20\n",
    "IMAGE_SIZE = [512, 512]\n",
    "CLASSES = ['0', '1', '2', '3', '4']\n",
    "SEED = 42"
   ]
  },
  {
   "cell_type": "code",
   "execution_count": 4,
   "metadata": {
    "execution": {
     "iopub.execute_input": "2021-02-09T18:19:52.624475Z",
     "iopub.status.busy": "2021-02-09T18:19:52.623789Z",
     "iopub.status.idle": "2021-02-09T18:19:52.637175Z",
     "shell.execute_reply": "2021-02-09T18:19:52.636419Z"
    },
    "papermill": {
     "duration": 0.029065,
     "end_time": "2021-02-09T18:19:52.637288",
     "exception": false,
     "start_time": "2021-02-09T18:19:52.608223",
     "status": "completed"
    },
    "tags": []
   },
   "outputs": [],
   "source": [
    "def count_data_items(filenames):\n",
    "    n = [int(re.compile(r\"-([0-9]*)\\.\").search(filename).group(1)) for filename in filenames]\n",
    "    return np.sum(n)\n",
    "\n",
    "TEST_FILENAMES = tf.io.gfile.glob('../input/cassava-leaf-disease-classification/test_tfrecords/ld_test*.tfrec')\n",
    "NUM_TEST_IMAGES = count_data_items(TEST_FILENAMES)"
   ]
  },
  {
   "cell_type": "code",
   "execution_count": 5,
   "metadata": {
    "execution": {
     "iopub.execute_input": "2021-02-09T18:19:52.678637Z",
     "iopub.status.busy": "2021-02-09T18:19:52.672715Z",
     "iopub.status.idle": "2021-02-09T18:19:52.684667Z",
     "shell.execute_reply": "2021-02-09T18:19:52.685392Z"
    },
    "papermill": {
     "duration": 0.038096,
     "end_time": "2021-02-09T18:19:52.685604",
     "exception": false,
     "start_time": "2021-02-09T18:19:52.647508",
     "status": "completed"
    },
    "tags": []
   },
   "outputs": [],
   "source": [
    "def decode_image(image):\n",
    "    image = tf.image.decode_jpeg(image, channels=3)\n",
    "    image = tf.image.resize(image, IMAGE_SIZE)\n",
    "    image = tf.cast(image, tf.float32) / 255.0     ###\n",
    "    image = tf.reshape(image, [*IMAGE_SIZE, 3])\n",
    "    return image\n",
    "\n",
    "def read_tfrecord(example, labeled):\n",
    "    tfrecord_format = {\n",
    "        \"image\": tf.io.FixedLenFeature([], tf.string),\n",
    "        \"target\": tf.io.FixedLenFeature([], tf.int64)\n",
    "    } if labeled else {\n",
    "        \"image\": tf.io.FixedLenFeature([], tf.string),\n",
    "        \"image_name\": tf.io.FixedLenFeature([], tf.string)\n",
    "    }\n",
    "    example = tf.io.parse_single_example(example, tfrecord_format)\n",
    "    image = decode_image(example['image'])\n",
    "    if labeled:\n",
    "        label = tf.cast(example['target'], tf.int32)\n",
    "        return image, label\n",
    "    idnum = example['image_name']\n",
    "    return image, idnum\n",
    "\n",
    "def load_dataset(filenames, labeled=True, ordered=False):\n",
    "    ignore_order = tf.data.Options()\n",
    "    if not ordered:\n",
    "        ignore_order.experimental_deterministic = False # disable order, increase speed\n",
    "    dataset = tf.data.TFRecordDataset(filenames, num_parallel_reads=AUTOTUNE) # automatically interleaves reads from multiple files\n",
    "    dataset = dataset.with_options(ignore_order) # uses data as soon as it streams in, rather than in its original order\n",
    "    dataset = dataset.map(partial(read_tfrecord, labeled=labeled), num_parallel_calls=AUTOTUNE)\n",
    "    return dataset\n",
    "\n",
    "def get_test_dataset(ordered=True):\n",
    "    dataset = load_dataset(TEST_FILENAMES, labeled=False, ordered=ordered)\n",
    "    dataset = dataset.batch(BATCH_SIZE)\n",
    "    dataset = dataset.prefetch(AUTOTUNE)\n",
    "    return dataset"
   ]
  },
  {
   "cell_type": "code",
   "execution_count": 6,
   "metadata": {
    "execution": {
     "iopub.execute_input": "2021-02-09T18:19:53.744998Z",
     "iopub.status.busy": "2021-02-09T18:19:53.744038Z",
     "iopub.status.idle": "2021-02-09T18:19:56.012670Z",
     "shell.execute_reply": "2021-02-09T18:19:56.011762Z"
    },
    "papermill": {
     "duration": 3.312898,
     "end_time": "2021-02-09T18:19:56.012800",
     "exception": false,
     "start_time": "2021-02-09T18:19:52.699902",
     "status": "completed"
    },
    "tags": []
   },
   "outputs": [],
   "source": [
    "test_ds = get_test_dataset()\n",
    "test_img_ds = test_ds.map(lambda image, idnum: image)"
   ]
  },
  {
   "cell_type": "code",
   "execution_count": 7,
   "metadata": {
    "execution": {
     "iopub.execute_input": "2021-02-09T18:19:56.039244Z",
     "iopub.status.busy": "2021-02-09T18:19:56.038561Z",
     "iopub.status.idle": "2021-02-09T18:21:28.814801Z",
     "shell.execute_reply": "2021-02-09T18:21:28.813554Z"
    },
    "papermill": {
     "duration": 92.792166,
     "end_time": "2021-02-09T18:21:28.814952",
     "exception": false,
     "start_time": "2021-02-09T18:19:56.022786",
     "status": "completed"
    },
    "tags": []
   },
   "outputs": [],
   "source": [
    "probabilities = []\n",
    "\n",
    "for i in range(1,6):\n",
    "    model = tf.keras.models.load_model('../input/cassava-5fold/fkfold_model-{}.h5'.format(i))\n",
    "    preds = model.predict(test_img_ds, verbose=0)\n",
    "    probabilities.append(preds)\n",
    "    del model\n",
    "    \n",
    "predictions = np.array(probabilities).mean(0).argmax(-1)"
   ]
  },
  {
   "cell_type": "code",
   "execution_count": 8,
   "metadata": {
    "execution": {
     "iopub.execute_input": "2021-02-09T18:21:28.845510Z",
     "iopub.status.busy": "2021-02-09T18:21:28.844122Z",
     "iopub.status.idle": "2021-02-09T18:21:28.849253Z",
     "shell.execute_reply": "2021-02-09T18:21:28.848730Z"
    },
    "papermill": {
     "duration": 0.023878,
     "end_time": "2021-02-09T18:21:28.849359",
     "exception": false,
     "start_time": "2021-02-09T18:21:28.825481",
     "status": "completed"
    },
    "tags": []
   },
   "outputs": [
    {
     "data": {
      "text/plain": [
       "{2: 1}"
      ]
     },
     "execution_count": 8,
     "metadata": {},
     "output_type": "execute_result"
    }
   ],
   "source": [
    "u,c = np.unique(predictions, return_counts = True)\n",
    "dict(zip(u,c))"
   ]
  },
  {
   "cell_type": "code",
   "execution_count": 9,
   "metadata": {
    "execution": {
     "iopub.execute_input": "2021-02-09T18:21:28.880223Z",
     "iopub.status.busy": "2021-02-09T18:21:28.879257Z",
     "iopub.status.idle": "2021-02-09T18:21:28.943185Z",
     "shell.execute_reply": "2021-02-09T18:21:28.941718Z"
    },
    "papermill": {
     "duration": 0.082964,
     "end_time": "2021-02-09T18:21:28.943309",
     "exception": false,
     "start_time": "2021-02-09T18:21:28.860345",
     "status": "completed"
    },
    "tags": []
   },
   "outputs": [],
   "source": [
    "test_ids_ds = test_ds.map(lambda image, idnum: idnum).unbatch()\n",
    "test_ids = next(iter(test_ids_ds.batch(NUM_TEST_IMAGES))).numpy().astype('U') # all in one batch\n",
    "np.savetxt('submission.csv', np.rec.fromarrays([test_ids, predictions]), fmt=['%s', '%d'], delimiter=',', header='image_id,label', comments='')"
   ]
  },
  {
   "cell_type": "code",
   "execution_count": 10,
   "metadata": {
    "execution": {
     "iopub.execute_input": "2021-02-09T18:21:28.997283Z",
     "iopub.status.busy": "2021-02-09T18:21:28.970203Z",
     "iopub.status.idle": "2021-02-09T18:21:29.738508Z",
     "shell.execute_reply": "2021-02-09T18:21:29.737817Z"
    },
    "papermill": {
     "duration": 0.784022,
     "end_time": "2021-02-09T18:21:29.738663",
     "exception": false,
     "start_time": "2021-02-09T18:21:28.954641",
     "status": "completed"
    },
    "tags": []
   },
   "outputs": [
    {
     "name": "stdout",
     "output_type": "stream",
     "text": [
      "image_id,label\r\n",
      "2216849948.jpg,2\r\n"
     ]
    }
   ],
   "source": [
    "!head submission.csv"
   ]
  },
  {
   "cell_type": "code",
   "execution_count": null,
   "metadata": {
    "papermill": {
     "duration": 0.011018,
     "end_time": "2021-02-09T18:21:29.761405",
     "exception": false,
     "start_time": "2021-02-09T18:21:29.750387",
     "status": "completed"
    },
    "tags": []
   },
   "outputs": [],
   "source": []
  }
 ],
 "metadata": {
  "kernelspec": {
   "display_name": "Python 3",
   "language": "python",
   "name": "python3"
  },
  "language_info": {
   "codemirror_mode": {
    "name": "ipython",
    "version": 3
   },
   "file_extension": ".py",
   "mimetype": "text/x-python",
   "name": "python",
   "nbconvert_exporter": "python",
   "pygments_lexer": "ipython3",
   "version": "3.7.6"
  },
  "papermill": {
   "duration": 171.958008,
   "end_time": "2021-02-09T18:21:30.999036",
   "environment_variables": {},
   "exception": null,
   "input_path": "__notebook__.ipynb",
   "output_path": "__notebook__.ipynb",
   "parameters": {},
   "start_time": "2021-02-09T18:18:39.041028",
   "version": "2.1.0"
  }
 },
 "nbformat": 4,
 "nbformat_minor": 4
}
