{
 "cells": [
  {
   "cell_type": "code",
   "execution_count": 1,
   "metadata": {
    "execution": {
     "iopub.execute_input": "2021-02-10T05:51:38.036011Z",
     "iopub.status.busy": "2021-02-10T05:51:38.035172Z",
     "iopub.status.idle": "2021-02-10T05:52:37.497838Z",
     "shell.execute_reply": "2021-02-10T05:52:37.499148Z"
    },
    "papermill": {
     "duration": 59.480866,
     "end_time": "2021-02-10T05:52:37.499386",
     "exception": false,
     "start_time": "2021-02-10T05:51:38.018520",
     "status": "completed"
    },
    "tags": []
   },
   "outputs": [],
   "source": [
    "!pip install --quiet /kaggle/input/kerasapplications\n",
    "!pip install --quiet /kaggle/input/efficientnet-keras-source-code"
   ]
  },
  {
   "cell_type": "code",
   "execution_count": 2,
   "metadata": {
    "_cell_guid": "79c7e3d0-c299-4dcb-8224-4455121ee9b0",
    "_uuid": "d629ff2d2480ee46fbb7e2d37f6b5fab8052498a",
    "execution": {
     "iopub.execute_input": "2021-02-10T05:52:37.536383Z",
     "iopub.status.busy": "2021-02-10T05:52:37.535585Z",
     "iopub.status.idle": "2021-02-10T05:52:43.854058Z",
     "shell.execute_reply": "2021-02-10T05:52:43.852987Z"
    },
    "papermill": {
     "duration": 6.340679,
     "end_time": "2021-02-10T05:52:43.854181",
     "exception": false,
     "start_time": "2021-02-10T05:52:37.513502",
     "status": "completed"
    },
    "tags": []
   },
   "outputs": [],
   "source": [
    "import math, os, random, re\n",
    "import tensorflow as tf\n",
    "import numpy as np\n",
    "import pandas as pd\n",
    "from kaggle_datasets import KaggleDatasets\n",
    "from tensorflow import keras\n",
    "import efficientnet.tfkeras as efn\n",
    "from functools import partial"
   ]
  },
  {
   "cell_type": "code",
   "execution_count": 3,
   "metadata": {
    "execution": {
     "iopub.execute_input": "2021-02-10T05:52:43.876334Z",
     "iopub.status.busy": "2021-02-10T05:52:43.875440Z",
     "iopub.status.idle": "2021-02-10T05:52:43.877696Z",
     "shell.execute_reply": "2021-02-10T05:52:43.878131Z"
    },
    "papermill": {
     "duration": 0.015732,
     "end_time": "2021-02-10T05:52:43.878248",
     "exception": false,
     "start_time": "2021-02-10T05:52:43.862516",
     "status": "completed"
    },
    "tags": []
   },
   "outputs": [],
   "source": [
    "AUTOTUNE = tf.data.experimental.AUTOTUNE\n",
    "BATCH_SIZE = 20\n",
    "IMAGE_SIZE = [512, 512]\n",
    "CLASSES = ['0', '1', '2', '3', '4']\n",
    "SEED = 42"
   ]
  },
  {
   "cell_type": "code",
   "execution_count": 4,
   "metadata": {
    "execution": {
     "iopub.execute_input": "2021-02-10T05:52:43.900337Z",
     "iopub.status.busy": "2021-02-10T05:52:43.899768Z",
     "iopub.status.idle": "2021-02-10T05:52:43.913546Z",
     "shell.execute_reply": "2021-02-10T05:52:43.912649Z"
    },
    "papermill": {
     "duration": 0.027278,
     "end_time": "2021-02-10T05:52:43.913639",
     "exception": false,
     "start_time": "2021-02-10T05:52:43.886361",
     "status": "completed"
    },
    "tags": []
   },
   "outputs": [],
   "source": [
    "def count_data_items(filenames):\n",
    "    n = [int(re.compile(r\"-([0-9]*)\\.\").search(filename).group(1)) for filename in filenames]\n",
    "    return np.sum(n)\n",
    "\n",
    "TEST_FILENAMES = tf.io.gfile.glob('../input/cassava-leaf-disease-classification/test_tfrecords/ld_test*.tfrec')\n",
    "NUM_TEST_IMAGES = count_data_items(TEST_FILENAMES)"
   ]
  },
  {
   "cell_type": "code",
   "execution_count": 5,
   "metadata": {
    "execution": {
     "iopub.execute_input": "2021-02-10T05:52:43.945171Z",
     "iopub.status.busy": "2021-02-10T05:52:43.944457Z",
     "iopub.status.idle": "2021-02-10T05:52:43.947520Z",
     "shell.execute_reply": "2021-02-10T05:52:43.947955Z"
    },
    "papermill": {
     "duration": 0.026199,
     "end_time": "2021-02-10T05:52:43.948065",
     "exception": false,
     "start_time": "2021-02-10T05:52:43.921866",
     "status": "completed"
    },
    "tags": []
   },
   "outputs": [],
   "source": [
    "def decode_image(image):\n",
    "    image = tf.image.decode_jpeg(image, channels=3)\n",
    "    image = tf.image.resize(image, IMAGE_SIZE)\n",
    "    image = tf.cast(image, tf.float32) / 255.0     ###\n",
    "    image = tf.reshape(image, [*IMAGE_SIZE, 3])\n",
    "    return image\n",
    "\n",
    "def read_tfrecord(example, labeled):\n",
    "    tfrecord_format = {\n",
    "        \"image\": tf.io.FixedLenFeature([], tf.string),\n",
    "        \"target\": tf.io.FixedLenFeature([], tf.int64)\n",
    "    } if labeled else {\n",
    "        \"image\": tf.io.FixedLenFeature([], tf.string),\n",
    "        \"image_name\": tf.io.FixedLenFeature([], tf.string)\n",
    "    }\n",
    "    example = tf.io.parse_single_example(example, tfrecord_format)\n",
    "    image = decode_image(example['image'])\n",
    "    if labeled:\n",
    "        label = tf.cast(example['target'], tf.int32)\n",
    "        return image, label\n",
    "    idnum = example['image_name']\n",
    "    return image, idnum\n",
    "\n",
    "def load_dataset(filenames, labeled=True, ordered=False):\n",
    "    ignore_order = tf.data.Options()\n",
    "    if not ordered:\n",
    "        ignore_order.experimental_deterministic = False # disable order, increase speed\n",
    "    dataset = tf.data.TFRecordDataset(filenames, num_parallel_reads=AUTOTUNE) # automatically interleaves reads from multiple files\n",
    "    dataset = dataset.with_options(ignore_order) # uses data as soon as it streams in, rather than in its original order\n",
    "    dataset = dataset.map(partial(read_tfrecord, labeled=labeled), num_parallel_calls=AUTOTUNE)\n",
    "    return dataset\n",
    "\n",
    "def get_test_dataset(ordered=True):\n",
    "    dataset = load_dataset(TEST_FILENAMES, labeled=False, ordered=ordered)\n",
    "    dataset = dataset.batch(BATCH_SIZE)\n",
    "    dataset = dataset.prefetch(AUTOTUNE)\n",
    "    return dataset"
   ]
  },
  {
   "cell_type": "code",
   "execution_count": 6,
   "metadata": {
    "execution": {
     "iopub.execute_input": "2021-02-10T05:52:43.969350Z",
     "iopub.status.busy": "2021-02-10T05:52:43.968773Z",
     "iopub.status.idle": "2021-02-10T05:52:59.387305Z",
     "shell.execute_reply": "2021-02-10T05:52:59.388601Z"
    },
    "papermill": {
     "duration": 15.43174,
     "end_time": "2021-02-10T05:52:59.388802",
     "exception": false,
     "start_time": "2021-02-10T05:52:43.957062",
     "status": "completed"
    },
    "tags": []
   },
   "outputs": [],
   "source": [
    "model = tf.keras.models.load_model('../input/cassava-fcomp-new/fcomp_model_new.h5')"
   ]
  },
  {
   "cell_type": "code",
   "execution_count": 7,
   "metadata": {
    "execution": {
     "iopub.execute_input": "2021-02-10T05:52:59.423386Z",
     "iopub.status.busy": "2021-02-10T05:52:59.422805Z",
     "iopub.status.idle": "2021-02-10T05:53:05.612123Z",
     "shell.execute_reply": "2021-02-10T05:53:05.610619Z"
    },
    "papermill": {
     "duration": 6.210498,
     "end_time": "2021-02-10T05:53:05.612243",
     "exception": false,
     "start_time": "2021-02-10T05:52:59.401745",
     "status": "completed"
    },
    "tags": []
   },
   "outputs": [],
   "source": [
    "test_ds = get_test_dataset()\n",
    "test_img_ds = test_ds.map(lambda image, idnum: image)\n",
    "predictions = np.argmax(model.predict(test_img_ds), axis=-1)"
   ]
  },
  {
   "cell_type": "code",
   "execution_count": 8,
   "metadata": {
    "execution": {
     "iopub.execute_input": "2021-02-10T05:53:05.639670Z",
     "iopub.status.busy": "2021-02-10T05:53:05.637841Z",
     "iopub.status.idle": "2021-02-10T05:53:05.642299Z",
     "shell.execute_reply": "2021-02-10T05:53:05.641818Z"
    },
    "papermill": {
     "duration": 0.021115,
     "end_time": "2021-02-10T05:53:05.642388",
     "exception": false,
     "start_time": "2021-02-10T05:53:05.621273",
     "status": "completed"
    },
    "tags": []
   },
   "outputs": [
    {
     "data": {
      "text/plain": [
       "{2: 1}"
      ]
     },
     "execution_count": 8,
     "metadata": {},
     "output_type": "execute_result"
    }
   ],
   "source": [
    "u,c = np.unique(predictions, return_counts = True)\n",
    "dict(zip(u,c))"
   ]
  },
  {
   "cell_type": "code",
   "execution_count": 9,
   "metadata": {
    "execution": {
     "iopub.execute_input": "2021-02-10T05:53:05.668429Z",
     "iopub.status.busy": "2021-02-10T05:53:05.667860Z",
     "iopub.status.idle": "2021-02-10T05:53:05.730275Z",
     "shell.execute_reply": "2021-02-10T05:53:05.729375Z"
    },
    "papermill": {
     "duration": 0.078505,
     "end_time": "2021-02-10T05:53:05.730390",
     "exception": false,
     "start_time": "2021-02-10T05:53:05.651885",
     "status": "completed"
    },
    "tags": []
   },
   "outputs": [],
   "source": [
    "test_ids_ds = test_ds.map(lambda image, idnum: idnum).unbatch()\n",
    "test_ids = next(iter(test_ids_ds.batch(NUM_TEST_IMAGES))).numpy().astype('U') # all in one batch\n",
    "np.savetxt('submission.csv', np.rec.fromarrays([test_ids, predictions]), fmt=['%s', '%d'], delimiter=',', header='image_id,label', comments='')"
   ]
  },
  {
   "cell_type": "code",
   "execution_count": 10,
   "metadata": {
    "execution": {
     "iopub.execute_input": "2021-02-10T05:53:05.754344Z",
     "iopub.status.busy": "2021-02-10T05:53:05.753757Z",
     "iopub.status.idle": "2021-02-10T05:53:06.429859Z",
     "shell.execute_reply": "2021-02-10T05:53:06.428891Z"
    },
    "papermill": {
     "duration": 0.689873,
     "end_time": "2021-02-10T05:53:06.429977",
     "exception": false,
     "start_time": "2021-02-10T05:53:05.740104",
     "status": "completed"
    },
    "tags": []
   },
   "outputs": [
    {
     "name": "stdout",
     "output_type": "stream",
     "text": [
      "image_id,label\r\n",
      "2216849948.jpg,2\r\n"
     ]
    }
   ],
   "source": [
    "!head submission.csv"
   ]
  },
  {
   "cell_type": "code",
   "execution_count": null,
   "metadata": {
    "papermill": {
     "duration": 0.009851,
     "end_time": "2021-02-10T05:53:06.450036",
     "exception": false,
     "start_time": "2021-02-10T05:53:06.440185",
     "status": "completed"
    },
    "tags": []
   },
   "outputs": [],
   "source": []
  }
 ],
 "metadata": {
  "kernelspec": {
   "display_name": "Python 3",
   "language": "python",
   "name": "python3"
  },
  "language_info": {
   "codemirror_mode": {
    "name": "ipython",
    "version": 3
   },
   "file_extension": ".py",
   "mimetype": "text/x-python",
   "name": "python",
   "nbconvert_exporter": "python",
   "pygments_lexer": "ipython3",
   "version": "3.7.6"
  },
  "papermill": {
   "duration": 93.83154,
   "end_time": "2021-02-10T05:53:07.534734",
   "environment_variables": {},
   "exception": null,
   "input_path": "__notebook__.ipynb",
   "output_path": "__notebook__.ipynb",
   "parameters": {},
   "start_time": "2021-02-10T05:51:33.703194",
   "version": "2.1.0"
  }
 },
 "nbformat": 4,
 "nbformat_minor": 4
}
