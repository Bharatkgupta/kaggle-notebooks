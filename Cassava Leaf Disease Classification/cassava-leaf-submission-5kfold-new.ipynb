{
 "cells": [
  {
   "cell_type": "code",
   "execution_count": 1,
   "metadata": {
    "execution": {
     "iopub.execute_input": "2021-02-11T07:41:25.307671Z",
     "iopub.status.busy": "2021-02-11T07:41:25.306793Z",
     "iopub.status.idle": "2021-02-11T07:42:25.278406Z",
     "shell.execute_reply": "2021-02-11T07:42:25.278991Z"
    },
    "papermill": {
     "duration": 59.988447,
     "end_time": "2021-02-11T07:42:25.279177",
     "exception": false,
     "start_time": "2021-02-11T07:41:25.290730",
     "status": "completed"
    },
    "tags": []
   },
   "outputs": [],
   "source": [
    "!pip install --quiet /kaggle/input/kerasapplications\n",
    "!pip install --quiet /kaggle/input/efficientnet-keras-source-code"
   ]
  },
  {
   "cell_type": "code",
   "execution_count": 2,
   "metadata": {
    "_cell_guid": "79c7e3d0-c299-4dcb-8224-4455121ee9b0",
    "_uuid": "d629ff2d2480ee46fbb7e2d37f6b5fab8052498a",
    "execution": {
     "iopub.execute_input": "2021-02-11T07:42:25.300607Z",
     "iopub.status.busy": "2021-02-11T07:42:25.299689Z",
     "iopub.status.idle": "2021-02-11T07:42:30.874339Z",
     "shell.execute_reply": "2021-02-11T07:42:30.873142Z"
    },
    "papermill": {
     "duration": 5.587329,
     "end_time": "2021-02-11T07:42:30.874477",
     "exception": false,
     "start_time": "2021-02-11T07:42:25.287148",
     "status": "completed"
    },
    "tags": []
   },
   "outputs": [],
   "source": [
    "import math, os, random, re\n",
    "import tensorflow as tf\n",
    "import numpy as np\n",
    "import pandas as pd\n",
    "from kaggle_datasets import KaggleDatasets\n",
    "from tensorflow import keras\n",
    "import efficientnet.tfkeras as efn\n",
    "from functools import partial"
   ]
  },
  {
   "cell_type": "code",
   "execution_count": 3,
   "metadata": {
    "execution": {
     "iopub.execute_input": "2021-02-11T07:42:30.896850Z",
     "iopub.status.busy": "2021-02-11T07:42:30.895035Z",
     "iopub.status.idle": "2021-02-11T07:42:30.897523Z",
     "shell.execute_reply": "2021-02-11T07:42:30.898021Z"
    },
    "papermill": {
     "duration": 0.015845,
     "end_time": "2021-02-11T07:42:30.898138",
     "exception": false,
     "start_time": "2021-02-11T07:42:30.882293",
     "status": "completed"
    },
    "tags": []
   },
   "outputs": [],
   "source": [
    "AUTOTUNE = tf.data.experimental.AUTOTUNE\n",
    "BATCH_SIZE = 20\n",
    "IMAGE_SIZE = [512, 512]\n",
    "CLASSES = ['0', '1', '2', '3', '4']\n",
    "SEED = 42"
   ]
  },
  {
   "cell_type": "code",
   "execution_count": 4,
   "metadata": {
    "execution": {
     "iopub.execute_input": "2021-02-11T07:42:30.917795Z",
     "iopub.status.busy": "2021-02-11T07:42:30.917176Z",
     "iopub.status.idle": "2021-02-11T07:42:30.930460Z",
     "shell.execute_reply": "2021-02-11T07:42:30.931421Z"
    },
    "papermill": {
     "duration": 0.02636,
     "end_time": "2021-02-11T07:42:30.931582",
     "exception": false,
     "start_time": "2021-02-11T07:42:30.905222",
     "status": "completed"
    },
    "tags": []
   },
   "outputs": [],
   "source": [
    "def count_data_items(filenames):\n",
    "    n = [int(re.compile(r\"-([0-9]*)\\.\").search(filename).group(1)) for filename in filenames]\n",
    "    return np.sum(n)\n",
    "\n",
    "TEST_FILENAMES = tf.io.gfile.glob('../input/cassava-leaf-disease-classification/test_tfrecords/ld_test*.tfrec')\n",
    "NUM_TEST_IMAGES = count_data_items(TEST_FILENAMES)"
   ]
  },
  {
   "cell_type": "code",
   "execution_count": 5,
   "metadata": {
    "execution": {
     "iopub.execute_input": "2021-02-11T07:42:30.963413Z",
     "iopub.status.busy": "2021-02-11T07:42:30.961626Z",
     "iopub.status.idle": "2021-02-11T07:42:30.964109Z",
     "shell.execute_reply": "2021-02-11T07:42:30.964630Z"
    },
    "papermill": {
     "duration": 0.025849,
     "end_time": "2021-02-11T07:42:30.964745",
     "exception": false,
     "start_time": "2021-02-11T07:42:30.938896",
     "status": "completed"
    },
    "tags": []
   },
   "outputs": [],
   "source": [
    "def decode_image(image):\n",
    "    image = tf.image.decode_jpeg(image, channels=3)\n",
    "    image = tf.image.resize(image, IMAGE_SIZE)\n",
    "    image = tf.cast(image, tf.float32) / 255.0     ###\n",
    "    image = tf.reshape(image, [*IMAGE_SIZE, 3])\n",
    "    return image\n",
    "\n",
    "def read_tfrecord(example, labeled):\n",
    "    tfrecord_format = {\n",
    "        \"image\": tf.io.FixedLenFeature([], tf.string),\n",
    "        \"target\": tf.io.FixedLenFeature([], tf.int64)\n",
    "    } if labeled else {\n",
    "        \"image\": tf.io.FixedLenFeature([], tf.string),\n",
    "        \"image_name\": tf.io.FixedLenFeature([], tf.string)\n",
    "    }\n",
    "    example = tf.io.parse_single_example(example, tfrecord_format)\n",
    "    image = decode_image(example['image'])\n",
    "    if labeled:\n",
    "        label = tf.cast(example['target'], tf.int32)\n",
    "        return image, label\n",
    "    idnum = example['image_name']\n",
    "    return image, idnum\n",
    "\n",
    "def load_dataset(filenames, labeled=True, ordered=False):\n",
    "    ignore_order = tf.data.Options()\n",
    "    if not ordered:\n",
    "        ignore_order.experimental_deterministic = False # disable order, increase speed\n",
    "    dataset = tf.data.TFRecordDataset(filenames, num_parallel_reads=AUTOTUNE) # automatically interleaves reads from multiple files\n",
    "    dataset = dataset.with_options(ignore_order) # uses data as soon as it streams in, rather than in its original order\n",
    "    dataset = dataset.map(partial(read_tfrecord, labeled=labeled), num_parallel_calls=AUTOTUNE)\n",
    "    return dataset\n",
    "\n",
    "def get_test_dataset(ordered=True):\n",
    "    dataset = load_dataset(TEST_FILENAMES, labeled=False, ordered=ordered)\n",
    "    dataset = dataset.batch(BATCH_SIZE)\n",
    "    dataset = dataset.prefetch(AUTOTUNE)\n",
    "    return dataset"
   ]
  },
  {
   "cell_type": "code",
   "execution_count": 6,
   "metadata": {
    "execution": {
     "iopub.execute_input": "2021-02-11T07:42:33.239662Z",
     "iopub.status.busy": "2021-02-11T07:42:33.238815Z",
     "iopub.status.idle": "2021-02-11T07:42:33.648741Z",
     "shell.execute_reply": "2021-02-11T07:42:33.648190Z"
    },
    "papermill": {
     "duration": 2.676706,
     "end_time": "2021-02-11T07:42:33.648859",
     "exception": false,
     "start_time": "2021-02-11T07:42:30.972153",
     "status": "completed"
    },
    "tags": []
   },
   "outputs": [],
   "source": [
    "test_ds = get_test_dataset()\n",
    "test_img_ds = test_ds.map(lambda image, idnum: image)"
   ]
  },
  {
   "cell_type": "code",
   "execution_count": 7,
   "metadata": {
    "execution": {
     "iopub.execute_input": "2021-02-11T07:42:33.670667Z",
     "iopub.status.busy": "2021-02-11T07:42:33.669970Z",
     "iopub.status.idle": "2021-02-11T07:43:37.560831Z",
     "shell.execute_reply": "2021-02-11T07:43:37.559624Z"
    },
    "papermill": {
     "duration": 63.904235,
     "end_time": "2021-02-11T07:43:37.560968",
     "exception": false,
     "start_time": "2021-02-11T07:42:33.656733",
     "status": "completed"
    },
    "tags": []
   },
   "outputs": [],
   "source": [
    "probabilities = []\n",
    "\n",
    "for i in range(1,6):\n",
    "    model = tf.keras.models.load_model('../input/cassava-5fold-new/f5fold_model-{}.h5'.format(i))\n",
    "    preds = model.predict(test_img_ds, verbose=0)\n",
    "    probabilities.append(preds)\n",
    "    del model\n",
    "    \n",
    "predictions = np.array(probabilities).mean(0).argmax(-1)"
   ]
  },
  {
   "cell_type": "code",
   "execution_count": 8,
   "metadata": {
    "execution": {
     "iopub.execute_input": "2021-02-11T07:43:37.585264Z",
     "iopub.status.busy": "2021-02-11T07:43:37.584501Z",
     "iopub.status.idle": "2021-02-11T07:43:37.640175Z",
     "shell.execute_reply": "2021-02-11T07:43:37.639088Z"
    },
    "papermill": {
     "duration": 0.071183,
     "end_time": "2021-02-11T07:43:37.640295",
     "exception": false,
     "start_time": "2021-02-11T07:43:37.569112",
     "status": "completed"
    },
    "tags": []
   },
   "outputs": [],
   "source": [
    "test_ids_ds = test_ds.map(lambda image, idnum: idnum).unbatch()\n",
    "test_ids = next(iter(test_ids_ds.batch(NUM_TEST_IMAGES))).numpy().astype('U') # all in one batch\n",
    "np.savetxt('submission.csv', np.rec.fromarrays([test_ids, predictions]), fmt=['%s', '%d'], delimiter=',', header='image_id,label', comments='')"
   ]
  },
  {
   "cell_type": "code",
   "execution_count": null,
   "metadata": {
    "papermill": {
     "duration": 0.007606,
     "end_time": "2021-02-11T07:43:37.656179",
     "exception": false,
     "start_time": "2021-02-11T07:43:37.648573",
     "status": "completed"
    },
    "tags": []
   },
   "outputs": [],
   "source": []
  }
 ],
 "metadata": {
  "kernelspec": {
   "display_name": "Python 3",
   "language": "python",
   "name": "python3"
  },
  "language_info": {
   "codemirror_mode": {
    "name": "ipython",
    "version": 3
   },
   "file_extension": ".py",
   "mimetype": "text/x-python",
   "name": "python",
   "nbconvert_exporter": "python",
   "pygments_lexer": "ipython3",
   "version": "3.7.6"
  },
  "papermill": {
   "duration": 137.737196,
   "end_time": "2021-02-11T07:43:38.949366",
   "environment_variables": {},
   "exception": null,
   "input_path": "__notebook__.ipynb",
   "output_path": "__notebook__.ipynb",
   "parameters": {},
   "start_time": "2021-02-11T07:41:21.212170",
   "version": "2.1.0"
  }
 },
 "nbformat": 4,
 "nbformat_minor": 4
}
