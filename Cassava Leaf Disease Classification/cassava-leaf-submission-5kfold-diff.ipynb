{
 "cells": [
  {
   "cell_type": "code",
   "execution_count": 1,
   "metadata": {
    "execution": {
     "iopub.execute_input": "2021-02-16T10:15:00.922683Z",
     "iopub.status.busy": "2021-02-16T10:15:00.921808Z",
     "iopub.status.idle": "2021-02-16T10:16:01.175883Z",
     "shell.execute_reply": "2021-02-16T10:16:01.174717Z"
    },
    "papermill": {
     "duration": 60.26948,
     "end_time": "2021-02-16T10:16:01.176038",
     "exception": false,
     "start_time": "2021-02-16T10:15:00.906558",
     "status": "completed"
    },
    "tags": []
   },
   "outputs": [],
   "source": [
    "!pip install --quiet /kaggle/input/kerasapplications\n",
    "!pip install --quiet /kaggle/input/efficientnet-keras-source-code"
   ]
  },
  {
   "cell_type": "code",
   "execution_count": 2,
   "metadata": {
    "_cell_guid": "79c7e3d0-c299-4dcb-8224-4455121ee9b0",
    "_uuid": "d629ff2d2480ee46fbb7e2d37f6b5fab8052498a",
    "execution": {
     "iopub.execute_input": "2021-02-16T10:16:01.204935Z",
     "iopub.status.busy": "2021-02-16T10:16:01.204166Z",
     "iopub.status.idle": "2021-02-16T10:16:07.657713Z",
     "shell.execute_reply": "2021-02-16T10:16:07.656672Z"
    },
    "papermill": {
     "duration": 6.471469,
     "end_time": "2021-02-16T10:16:07.657839",
     "exception": false,
     "start_time": "2021-02-16T10:16:01.186370",
     "status": "completed"
    },
    "tags": []
   },
   "outputs": [],
   "source": [
    "import math, os, random, re\n",
    "import tensorflow as tf\n",
    "import numpy as np\n",
    "import pandas as pd\n",
    "from kaggle_datasets import KaggleDatasets\n",
    "from tensorflow import keras\n",
    "import efficientnet.tfkeras as efn\n",
    "from functools import partial"
   ]
  },
  {
   "cell_type": "code",
   "execution_count": 3,
   "metadata": {
    "execution": {
     "iopub.execute_input": "2021-02-16T10:16:07.677689Z",
     "iopub.status.busy": "2021-02-16T10:16:07.676823Z",
     "iopub.status.idle": "2021-02-16T10:16:07.679793Z",
     "shell.execute_reply": "2021-02-16T10:16:07.679305Z"
    },
    "papermill": {
     "duration": 0.014735,
     "end_time": "2021-02-16T10:16:07.679884",
     "exception": false,
     "start_time": "2021-02-16T10:16:07.665149",
     "status": "completed"
    },
    "tags": []
   },
   "outputs": [],
   "source": [
    "AUTOTUNE = tf.data.experimental.AUTOTUNE\n",
    "BATCH_SIZE = 20\n",
    "IMAGE_SIZE = [512, 512]\n",
    "CLASSES = ['0', '1', '2', '3', '4']\n",
    "SEED = 42"
   ]
  },
  {
   "cell_type": "code",
   "execution_count": 4,
   "metadata": {
    "execution": {
     "iopub.execute_input": "2021-02-16T10:16:07.699706Z",
     "iopub.status.busy": "2021-02-16T10:16:07.699133Z",
     "iopub.status.idle": "2021-02-16T10:16:07.707841Z",
     "shell.execute_reply": "2021-02-16T10:16:07.708463Z"
    },
    "papermill": {
     "duration": 0.02157,
     "end_time": "2021-02-16T10:16:07.708578",
     "exception": false,
     "start_time": "2021-02-16T10:16:07.687008",
     "status": "completed"
    },
    "tags": []
   },
   "outputs": [],
   "source": [
    "def count_data_items(filenames):\n",
    "    n = [int(re.compile(r\"-([0-9]*)\\.\").search(filename).group(1)) for filename in filenames]\n",
    "    return np.sum(n)\n",
    "\n",
    "TEST_FILENAMES = tf.io.gfile.glob('../input/cassava-leaf-disease-classification/test_tfrecords/ld_test*.tfrec')\n",
    "NUM_TEST_IMAGES = count_data_items(TEST_FILENAMES)"
   ]
  },
  {
   "cell_type": "code",
   "execution_count": 5,
   "metadata": {
    "execution": {
     "iopub.execute_input": "2021-02-16T10:16:07.740922Z",
     "iopub.status.busy": "2021-02-16T10:16:07.739129Z",
     "iopub.status.idle": "2021-02-16T10:16:07.741645Z",
     "shell.execute_reply": "2021-02-16T10:16:07.742127Z"
    },
    "papermill": {
     "duration": 0.025931,
     "end_time": "2021-02-16T10:16:07.742239",
     "exception": false,
     "start_time": "2021-02-16T10:16:07.716308",
     "status": "completed"
    },
    "tags": []
   },
   "outputs": [],
   "source": [
    "def decode_image(image):\n",
    "    image = tf.image.decode_jpeg(image, channels=3)\n",
    "    image = tf.image.resize(image, IMAGE_SIZE)\n",
    "    image = tf.cast(image, tf.float32) / 255.0     ###\n",
    "    image = tf.reshape(image, [*IMAGE_SIZE, 3])\n",
    "    return image\n",
    "\n",
    "def read_tfrecord(example, labeled):\n",
    "    tfrecord_format = {\n",
    "        \"image\": tf.io.FixedLenFeature([], tf.string),\n",
    "        \"target\": tf.io.FixedLenFeature([], tf.int64)\n",
    "    } if labeled else {\n",
    "        \"image\": tf.io.FixedLenFeature([], tf.string),\n",
    "        \"image_name\": tf.io.FixedLenFeature([], tf.string)\n",
    "    }\n",
    "    example = tf.io.parse_single_example(example, tfrecord_format)\n",
    "    image = decode_image(example['image'])\n",
    "    if labeled:\n",
    "        label = tf.cast(example['target'], tf.int32)\n",
    "        return image, label\n",
    "    idnum = example['image_name']\n",
    "    return image, idnum\n",
    "\n",
    "def load_dataset(filenames, labeled=True, ordered=False):\n",
    "    ignore_order = tf.data.Options()\n",
    "    if not ordered:\n",
    "        ignore_order.experimental_deterministic = False # disable order, increase speed\n",
    "    dataset = tf.data.TFRecordDataset(filenames, num_parallel_reads=AUTOTUNE) # automatically interleaves reads from multiple files\n",
    "    dataset = dataset.with_options(ignore_order) # uses data as soon as it streams in, rather than in its original order\n",
    "    dataset = dataset.map(partial(read_tfrecord, labeled=labeled), num_parallel_calls=AUTOTUNE)\n",
    "    return dataset\n",
    "\n",
    "def get_test_dataset(ordered=True):\n",
    "    dataset = load_dataset(TEST_FILENAMES, labeled=False, ordered=ordered)\n",
    "    dataset = dataset.batch(BATCH_SIZE)\n",
    "    dataset = dataset.prefetch(AUTOTUNE)\n",
    "    return dataset"
   ]
  },
  {
   "cell_type": "code",
   "execution_count": 6,
   "metadata": {
    "execution": {
     "iopub.execute_input": "2021-02-16T10:16:08.779843Z",
     "iopub.status.busy": "2021-02-16T10:16:08.778810Z",
     "iopub.status.idle": "2021-02-16T10:16:10.884635Z",
     "shell.execute_reply": "2021-02-16T10:16:10.883648Z"
    },
    "papermill": {
     "duration": 3.135018,
     "end_time": "2021-02-16T10:16:10.884748",
     "exception": false,
     "start_time": "2021-02-16T10:16:07.749730",
     "status": "completed"
    },
    "tags": []
   },
   "outputs": [],
   "source": [
    "test_ds = get_test_dataset()\n",
    "test_img_ds = test_ds.map(lambda image, idnum: image)"
   ]
  },
  {
   "cell_type": "code",
   "execution_count": 7,
   "metadata": {
    "execution": {
     "iopub.execute_input": "2021-02-16T10:16:10.906474Z",
     "iopub.status.busy": "2021-02-16T10:16:10.905807Z",
     "iopub.status.idle": "2021-02-16T10:17:10.848154Z",
     "shell.execute_reply": "2021-02-16T10:17:10.847019Z"
    },
    "papermill": {
     "duration": 59.955731,
     "end_time": "2021-02-16T10:17:10.848292",
     "exception": false,
     "start_time": "2021-02-16T10:16:10.892561",
     "status": "completed"
    },
    "tags": []
   },
   "outputs": [],
   "source": [
    "probabilities = []\n",
    "\n",
    "for i in range(1,6):\n",
    "    model = tf.keras.models.load_model('../input/cassava-diff/f5kfold_model-{}.h5'.format(i))\n",
    "    preds = model.predict(test_img_ds, verbose=0)\n",
    "    probabilities.append(preds)\n",
    "    del model\n",
    "    \n",
    "predictions = np.array(probabilities).mean(0).argmax(-1)"
   ]
  },
  {
   "cell_type": "code",
   "execution_count": 8,
   "metadata": {
    "execution": {
     "iopub.execute_input": "2021-02-16T10:17:10.872858Z",
     "iopub.status.busy": "2021-02-16T10:17:10.872100Z",
     "iopub.status.idle": "2021-02-16T10:17:10.928002Z",
     "shell.execute_reply": "2021-02-16T10:17:10.926951Z"
    },
    "papermill": {
     "duration": 0.071769,
     "end_time": "2021-02-16T10:17:10.928112",
     "exception": false,
     "start_time": "2021-02-16T10:17:10.856343",
     "status": "completed"
    },
    "tags": []
   },
   "outputs": [],
   "source": [
    "test_ids_ds = test_ds.map(lambda image, idnum: idnum).unbatch()\n",
    "test_ids = next(iter(test_ids_ds.batch(NUM_TEST_IMAGES))).numpy().astype('U') # all in one batch\n",
    "np.savetxt('submission.csv', np.rec.fromarrays([test_ids, predictions]), fmt=['%s', '%d'], delimiter=',', header='image_id,label', comments='')"
   ]
  },
  {
   "cell_type": "code",
   "execution_count": null,
   "metadata": {
    "papermill": {
     "duration": 0.007869,
     "end_time": "2021-02-16T10:17:10.944165",
     "exception": false,
     "start_time": "2021-02-16T10:17:10.936296",
     "status": "completed"
    },
    "tags": []
   },
   "outputs": [],
   "source": []
  }
 ],
 "metadata": {
  "kernelspec": {
   "display_name": "Python 3",
   "language": "python",
   "name": "python3"
  },
  "language_info": {
   "codemirror_mode": {
    "name": "ipython",
    "version": 3
   },
   "file_extension": ".py",
   "mimetype": "text/x-python",
   "name": "python",
   "nbconvert_exporter": "python",
   "pygments_lexer": "ipython3",
   "version": "3.7.6"
  },
  "papermill": {
   "duration": 135.819059,
   "end_time": "2021-02-16T10:17:12.498790",
   "environment_variables": {},
   "exception": null,
   "input_path": "__notebook__.ipynb",
   "output_path": "__notebook__.ipynb",
   "parameters": {},
   "start_time": "2021-02-16T10:14:56.679731",
   "version": "2.1.0"
  }
 },
 "nbformat": 4,
 "nbformat_minor": 4
}
